{
  "cells": [
    {
      "cell_type": "markdown",
      "metadata": {
        "id": "view-in-github",
        "colab_type": "text"
      },
      "source": [
        "<a href=\"https://colab.research.google.com/github/HemaRavi94/Numpy/blob/main/numpy_tasks.ipynb\" target=\"_parent\"><img src=\"https://colab.research.google.com/assets/colab-badge.svg\" alt=\"Open In Colab\"/></a>"
      ]
    },
    {
      "cell_type": "markdown",
      "metadata": {
        "id": "bvRSXjpBPkqR"
      },
      "source": [
        "# Numpy\n",
        "\n"
      ]
    },
    {
      "cell_type": "markdown",
      "metadata": {
        "id": "2g4D7JRjPkqW"
      },
      "source": [
        "#### 1. Import the numpy package under the name `np` (★☆☆) \n",
        "(**hint**: import … as …)"
      ]
    },
    {
      "cell_type": "code",
      "execution_count": null,
      "metadata": {
        "collapsed": true,
        "id": "GknCDQnQPkqW"
      },
      "outputs": [],
      "source": [
        "import numpy as np"
      ]
    },
    {
      "cell_type": "markdown",
      "metadata": {
        "id": "E4SKvmcuPkqX"
      },
      "source": [
        "#### 2. Print the numpy version and the configuration (★☆☆) \n",
        "(**hint**: np.\\_\\_version\\_\\_, np.show\\_config)"
      ]
    },
    {
      "cell_type": "code",
      "execution_count": null,
      "metadata": {
        "id": "2vJFIn9fPkqY",
        "colab": {
          "base_uri": "https://localhost:8080/"
        },
        "outputId": "9e4f0df9-c083-4b47-ae53-adddedab7818"
      },
      "outputs": [
        {
          "output_type": "stream",
          "name": "stdout",
          "text": [
            "1.21.6\n",
            "blas_mkl_info:\n",
            "  NOT AVAILABLE\n",
            "blis_info:\n",
            "  NOT AVAILABLE\n",
            "openblas_info:\n",
            "    libraries = ['openblas', 'openblas']\n",
            "    library_dirs = ['/usr/local/lib']\n",
            "    language = c\n",
            "    define_macros = [('HAVE_CBLAS', None)]\n",
            "    runtime_library_dirs = ['/usr/local/lib']\n",
            "blas_opt_info:\n",
            "    libraries = ['openblas', 'openblas']\n",
            "    library_dirs = ['/usr/local/lib']\n",
            "    language = c\n",
            "    define_macros = [('HAVE_CBLAS', None)]\n",
            "    runtime_library_dirs = ['/usr/local/lib']\n",
            "lapack_mkl_info:\n",
            "  NOT AVAILABLE\n",
            "openblas_lapack_info:\n",
            "    libraries = ['openblas', 'openblas']\n",
            "    library_dirs = ['/usr/local/lib']\n",
            "    language = c\n",
            "    define_macros = [('HAVE_CBLAS', None)]\n",
            "    runtime_library_dirs = ['/usr/local/lib']\n",
            "lapack_opt_info:\n",
            "    libraries = ['openblas', 'openblas']\n",
            "    library_dirs = ['/usr/local/lib']\n",
            "    language = c\n",
            "    define_macros = [('HAVE_CBLAS', None)]\n",
            "    runtime_library_dirs = ['/usr/local/lib']\n",
            "Supported SIMD extensions in this NumPy install:\n",
            "    baseline = SSE,SSE2,SSE3\n",
            "    found = SSSE3,SSE41,POPCNT,SSE42,AVX,F16C,FMA3,AVX2\n",
            "    not found = AVX512F,AVX512CD,AVX512_KNL,AVX512_KNM,AVX512_SKX,AVX512_CLX,AVX512_CNL,AVX512_ICL\n",
            "None\n"
          ]
        }
      ],
      "source": [
        "import numpy as np\n",
        "print(np.__version__)\n",
        "print(np.show_config())"
      ]
    },
    {
      "cell_type": "markdown",
      "metadata": {
        "id": "aAB74xidPkqY"
      },
      "source": [
        "#### 3. Create a null vector of size 10 (★☆☆) \n",
        "(**hint**: np.zeros)"
      ]
    },
    {
      "cell_type": "code",
      "execution_count": null,
      "metadata": {
        "id": "cg13-wuGPkqZ",
        "colab": {
          "base_uri": "https://localhost:8080/"
        },
        "outputId": "940986bb-fa25-42a4-f1bf-8d9f83f8ae90"
      },
      "outputs": [
        {
          "output_type": "stream",
          "name": "stdout",
          "text": [
            "[0. 0. 0. 0. 0. 0. 0. 0. 0. 0.]\n"
          ]
        }
      ],
      "source": [
        "import numpy as np\n",
        "x = np.zeros(10)\n",
        "print(x)"
      ]
    },
    {
      "cell_type": "markdown",
      "metadata": {
        "id": "QE2tfQZHPkqZ"
      },
      "source": [
        "#### 4.  How to find the memory size of any array (★☆☆) \n",
        "(**hint**: size, itemsize)"
      ]
    },
    {
      "cell_type": "code",
      "execution_count": null,
      "metadata": {
        "id": "B0ofni5xPkqa",
        "colab": {
          "base_uri": "https://localhost:8080/"
        },
        "outputId": "1e696138-8f26-49ae-cb60-742cd6551c6f"
      },
      "outputs": [
        {
          "output_type": "stream",
          "name": "stdout",
          "text": [
            "Size of the array:  6\n",
            "Memory size of one array element in bytes:  8\n"
          ]
        }
      ],
      "source": [
        "import numpy as np\n",
        " \n",
        "x = np.array([[100, 20, 34],\n",
        "              [300, 400, 600]]) \n",
        "print(\"Size of the array: \",\n",
        "      x.size)\n",
        "print(\"Memory size of one array element in bytes: \",\n",
        "      x.itemsize)"
      ]
    },
    {
      "cell_type": "markdown",
      "metadata": {
        "id": "cdL5cohsPkqb"
      },
      "source": [
        "#### 5.  How to get the documentation of the numpy add function from the command line? (★☆☆) \n",
        "(**hint**: np.info)"
      ]
    },
    {
      "cell_type": "code",
      "execution_count": null,
      "metadata": {
        "collapsed": true,
        "id": "AgwLrDjjPkqb",
        "colab": {
          "base_uri": "https://localhost:8080/"
        },
        "outputId": "5674bf40-a03a-4fb8-e92e-9b18d5ab55f4"
      },
      "outputs": [
        {
          "output_type": "stream",
          "name": "stdout",
          "text": [
            "add(x1, x2, /, out=None, *, where=True, casting='same_kind', order='K', dtype=None, subok=True[, signature, extobj])\n",
            "\n",
            "Add arguments element-wise.\n",
            "\n",
            "Parameters\n",
            "----------\n",
            "x1, x2 : array_like\n",
            "    The arrays to be added.\n",
            "    If ``x1.shape != x2.shape``, they must be broadcastable to a common\n",
            "    shape (which becomes the shape of the output).\n",
            "out : ndarray, None, or tuple of ndarray and None, optional\n",
            "    A location into which the result is stored. If provided, it must have\n",
            "    a shape that the inputs broadcast to. If not provided or None,\n",
            "    a freshly-allocated array is returned. A tuple (possible only as a\n",
            "    keyword argument) must have length equal to the number of outputs.\n",
            "where : array_like, optional\n",
            "    This condition is broadcast over the input. At locations where the\n",
            "    condition is True, the `out` array will be set to the ufunc result.\n",
            "    Elsewhere, the `out` array will retain its original value.\n",
            "    Note that if an uninitialized `out` array is created via the default\n",
            "    ``out=None``, locations within it where the condition is False will\n",
            "    remain uninitialized.\n",
            "**kwargs\n",
            "    For other keyword-only arguments, see the\n",
            "    :ref:`ufunc docs <ufuncs.kwargs>`.\n",
            "\n",
            "Returns\n",
            "-------\n",
            "add : ndarray or scalar\n",
            "    The sum of `x1` and `x2`, element-wise.\n",
            "    This is a scalar if both `x1` and `x2` are scalars.\n",
            "\n",
            "Notes\n",
            "-----\n",
            "Equivalent to `x1` + `x2` in terms of array broadcasting.\n",
            "\n",
            "Examples\n",
            "--------\n",
            ">>> np.add(1.0, 4.0)\n",
            "5.0\n",
            ">>> x1 = np.arange(9.0).reshape((3, 3))\n",
            ">>> x2 = np.arange(3.0)\n",
            ">>> np.add(x1, x2)\n",
            "array([[  0.,   2.,   4.],\n",
            "       [  3.,   5.,   7.],\n",
            "       [  6.,   8.,  10.]])\n",
            "\n",
            "The ``+`` operator can be used as a shorthand for ``np.add`` on ndarrays.\n",
            "\n",
            ">>> x1 = np.arange(9.0).reshape((3, 3))\n",
            ">>> x2 = np.arange(3.0)\n",
            ">>> x1 + x2\n",
            "array([[ 0.,  2.,  4.],\n",
            "       [ 3.,  5.,  7.],\n",
            "       [ 6.,  8., 10.]])\n",
            "None\n"
          ]
        }
      ],
      "source": [
        "import numpy as np\n",
        "print(np.info(np.add))"
      ]
    },
    {
      "cell_type": "markdown",
      "metadata": {
        "id": "XpWFgho5Pkqc"
      },
      "source": [
        "#### 6.  Create a null vector of size 10 but the fifth value which is 1 (★☆☆) \n",
        "(**hint**: array\\[4\\])"
      ]
    },
    {
      "cell_type": "code",
      "execution_count": null,
      "metadata": {
        "id": "5NcpF0vIPkqc",
        "colab": {
          "base_uri": "https://localhost:8080/"
        },
        "outputId": "0505149a-b8dc-4995-95b8-67594b1a2b3c"
      },
      "outputs": [
        {
          "output_type": "stream",
          "name": "stdout",
          "text": [
            "[0. 0. 0. 0. 0. 1. 0. 0. 0. 0.]\n"
          ]
        }
      ],
      "source": [
        "import numpy as np\n",
        "x=np.zeros(10)\n",
        "x[5]=1\n",
        "print(x)"
      ]
    },
    {
      "cell_type": "markdown",
      "metadata": {
        "id": "WVY8Icx1Pkqc"
      },
      "source": [
        "#### 7.  Create a vector with values ranging from 10 to 49 (★☆☆) \n",
        "(**hint**: np.arange)"
      ]
    },
    {
      "cell_type": "code",
      "execution_count": null,
      "metadata": {
        "id": "1ouEQRo6Pkqd",
        "colab": {
          "base_uri": "https://localhost:8080/"
        },
        "outputId": "1f49e679-0411-4964-d235-21cf1bf8ecd4"
      },
      "outputs": [
        {
          "output_type": "stream",
          "name": "stdout",
          "text": [
            "[10 11 12 13 14 15 16 17 18 19 20 21 22 23 24 25 26 27 28 29 30 31 32 33\n",
            " 34 35 36 37 38 39 40 41 42 43 44 45 46 47 48]\n"
          ]
        }
      ],
      "source": [
        "import numpy as np\n",
        "z=np.arange(10,49)\n",
        "print(z)"
      ]
    },
    {
      "cell_type": "markdown",
      "metadata": {
        "id": "2_7CYtxIPkqd"
      },
      "source": [
        "#### 8.  Reverse a vector (first element becomes last) (★☆☆) \n",
        "(**hint**: array\\[::-1\\])"
      ]
    },
    {
      "cell_type": "code",
      "execution_count": null,
      "metadata": {
        "id": "fjxDMecsPkqe",
        "colab": {
          "base_uri": "https://localhost:8080/"
        },
        "outputId": "711d2ae9-a834-4f27-bd56-e7054e11ea7f"
      },
      "outputs": [
        {
          "output_type": "stream",
          "name": "stdout",
          "text": [
            "[8, 9, 4, 8, 6, 5, 4, 3, 2, 1]\n"
          ]
        }
      ],
      "source": [
        "import numpy as np\n",
        "z=[1,2,3,4,5,6,8,4,9,8]\n",
        "print(z[::-1])"
      ]
    },
    {
      "cell_type": "markdown",
      "metadata": {
        "id": "FrRaJc2ePkqe"
      },
      "source": [
        "#### 9.  Create a 3x3 matrix with values ranging from 0 to 8 (★☆☆) \n",
        "(**hint**: reshape)"
      ]
    },
    {
      "cell_type": "code",
      "execution_count": null,
      "metadata": {
        "id": "YeXxG2l7Pkqe",
        "colab": {
          "base_uri": "https://localhost:8080/"
        },
        "outputId": "418a684e-a688-4751-d3a0-dc1052e7ba66"
      },
      "outputs": [
        {
          "output_type": "stream",
          "name": "stdout",
          "text": [
            "[[0 1 2]\n",
            " [3 4 5]\n",
            " [6 7 8]]\n"
          ]
        }
      ],
      "source": [
        "import numpy as np\n",
        "z=np.arange(0,9).reshape(3,3)\n",
        "print(z)"
      ]
    },
    {
      "cell_type": "markdown",
      "metadata": {
        "id": "F046GLxLPkqe"
      },
      "source": [
        "#### 10. Find indices of non-zero elements from \\[1,2,0,0,4,0\\] (★☆☆) \n",
        "(**hint**: np.nonzero)"
      ]
    },
    {
      "cell_type": "code",
      "execution_count": null,
      "metadata": {
        "id": "q_UYE6IKPkqf",
        "colab": {
          "base_uri": "https://localhost:8080/"
        },
        "outputId": "d84d87d1-14ec-4235-e0ed-89f9bd0b61e5"
      },
      "outputs": [
        {
          "output_type": "stream",
          "name": "stdout",
          "text": [
            "(array([0, 1, 4]),)\n"
          ]
        }
      ],
      "source": [
        "z=[1,2,0,0,4,0]\n",
        "w=np.nonzero(z)\n",
        "print(w)"
      ]
    },
    {
      "cell_type": "markdown",
      "metadata": {
        "id": "9IA5CXQUPkqf"
      },
      "source": [
        "#### 11. Create a 3x3 identity matrix (★☆☆) \n",
        "(**hint**: np.eye)"
      ]
    },
    {
      "cell_type": "code",
      "execution_count": null,
      "metadata": {
        "id": "jW10U7LMPkqf",
        "colab": {
          "base_uri": "https://localhost:8080/"
        },
        "outputId": "772472ed-39e6-4ea8-d17e-3c86c6174990"
      },
      "outputs": [
        {
          "output_type": "stream",
          "name": "stdout",
          "text": [
            "[[1. 0. 0.]\n",
            " [0. 1. 0.]\n",
            " [0. 0. 1.]]\n"
          ]
        }
      ],
      "source": [
        "a=np.identity(3)\n",
        "print(a)"
      ]
    },
    {
      "cell_type": "markdown",
      "metadata": {
        "id": "OzqBiXEcPkqf"
      },
      "source": [
        "#### 12. Create a 3x3x3 array with random values (★☆☆) \n",
        "(**hint**: np.random.random)"
      ]
    },
    {
      "cell_type": "code",
      "execution_count": null,
      "metadata": {
        "collapsed": true,
        "id": "izUjOY-iPkqg",
        "colab": {
          "base_uri": "https://localhost:8080/"
        },
        "outputId": "e563d732-6c40-4f7f-f223-d9e7cbe46328"
      },
      "outputs": [
        {
          "output_type": "execute_result",
          "data": {
            "text/plain": [
              "array([[[0.90977766, 0.06027937, 0.66786618],\n",
              "        [0.99345896, 0.74227087, 0.47690991],\n",
              "        [0.17470318, 0.89673323, 0.00754349]],\n",
              "\n",
              "       [[0.90797018, 0.57101696, 0.80407961],\n",
              "        [0.78538404, 0.43462595, 0.60831651],\n",
              "        [0.20839819, 0.75162772, 0.26194951]],\n",
              "\n",
              "       [[0.88871139, 0.82324484, 0.34927512],\n",
              "        [0.72177408, 0.34947749, 0.95171144],\n",
              "        [0.02349481, 0.88890281, 0.85708996]]])"
            ]
          },
          "metadata": {},
          "execution_count": 18
        }
      ],
      "source": [
        "z=np.random.random((3,3,3))\n",
        "z"
      ]
    },
    {
      "cell_type": "markdown",
      "metadata": {
        "id": "2LIEoD3mPkqg"
      },
      "source": [
        "#### 13. Create a 10x10 array with random values and find the minimum and maximum values (★☆☆) \n",
        "(**hint**: min, max)"
      ]
    },
    {
      "cell_type": "code",
      "execution_count": null,
      "metadata": {
        "id": "B8zX-olaPkqg",
        "colab": {
          "base_uri": "https://localhost:8080/"
        },
        "outputId": "2b65c151-9d83-424f-ced9-815fffcff70b"
      },
      "outputs": [
        {
          "output_type": "stream",
          "name": "stdout",
          "text": [
            "0.02158904162166575\n",
            "0.9962803788032047\n"
          ]
        }
      ],
      "source": [
        "z=np.random.random((10,10))\n",
        "print(np.min(z))\n",
        "print(np.max(z))"
      ]
    },
    {
      "cell_type": "markdown",
      "metadata": {
        "id": "OZd0_OMOPkqg"
      },
      "source": [
        "#### 14. Create a random vector of size 30 and find the mean value (★☆☆) \n",
        "(**hint**: mean)"
      ]
    },
    {
      "cell_type": "code",
      "execution_count": null,
      "metadata": {
        "id": "5uiMnbvqPkqg",
        "colab": {
          "base_uri": "https://localhost:8080/"
        },
        "outputId": "840fa82a-1442-4d50-fb3f-6e785e0b470f"
      },
      "outputs": [
        {
          "output_type": "stream",
          "name": "stdout",
          "text": [
            "0.545350563654451\n"
          ]
        }
      ],
      "source": [
        "z=np.random.random((30))\n",
        "print(np.mean(z))"
      ]
    },
    {
      "cell_type": "markdown",
      "metadata": {
        "id": "ex-AuABcPkqh"
      },
      "source": [
        "#### 15. Create a 2d array with 1 on the border and 0 inside (★☆☆) \n",
        "(**hint**: array\\[1:-1, 1:-1\\])"
      ]
    },
    {
      "cell_type": "code",
      "execution_count": null,
      "metadata": {
        "id": "_cBMvAvPPkqh",
        "colab": {
          "base_uri": "https://localhost:8080/"
        },
        "outputId": "76e8e0a2-1e6d-4377-d93c-6a65bd68dcc6"
      },
      "outputs": [
        {
          "output_type": "stream",
          "name": "stdout",
          "text": [
            "[[1. 1. 1.]\n",
            " [1. 1. 1.]\n",
            " [1. 1. 1.]]\n"
          ]
        }
      ],
      "source": [
        "z=np.ones((5,5))\n",
        "print(z[1:-1,1:-1])"
      ]
    },
    {
      "cell_type": "markdown",
      "metadata": {
        "id": "rEFFjEo2Pkqh"
      },
      "source": [
        "#### 16. How to add a border (filled with 0's) around an existing array? (★☆☆) \n",
        "(**hint**: np.pad)"
      ]
    },
    {
      "cell_type": "code",
      "execution_count": null,
      "metadata": {
        "id": "GUadqra6Pkqh",
        "colab": {
          "base_uri": "https://localhost:8080/"
        },
        "outputId": "e274ab09-9000-491d-a4a3-a1916b04cdae"
      },
      "outputs": [
        {
          "output_type": "stream",
          "name": "stdout",
          "text": [
            "[[0. 0. 0. 0. 0.]\n",
            " [0. 1. 1. 1. 0.]\n",
            " [0. 1. 1. 1. 0.]\n",
            " [0. 1. 1. 1. 0.]\n",
            " [0. 0. 0. 0. 0.]]\n"
          ]
        }
      ],
      "source": [
        "x = np.ones((3,3))\n",
        "x = np.pad(x, pad_width=1, mode='constant', constant_values=0)\n",
        "print(x)"
      ]
    },
    {
      "cell_type": "markdown",
      "metadata": {
        "id": "nHzk15P3Pkqh"
      },
      "source": [
        "#### 17. What is the result of the following expression? (★☆☆) \n",
        "(**hint**: NaN = not a number, inf = infinity)"
      ]
    },
    {
      "cell_type": "markdown",
      "metadata": {
        "id": "xy8EgFvmPkqi"
      },
      "source": [
        "```python\n",
        "0 * np.nan\n",
        "np.nan == np.nan\n",
        "np.inf > np.nan\n",
        "np.nan - np.nan\n",
        "0.3 == 3 * 0.1\n",
        "```"
      ]
    },
    {
      "cell_type": "code",
      "execution_count": null,
      "metadata": {
        "id": "MRgrsThZPkqi"
      },
      "outputs": [],
      "source": [
        "nan\n",
        "False\n",
        "False\n",
        "nan\n",
        "False"
      ]
    },
    {
      "cell_type": "markdown",
      "metadata": {
        "id": "WxxMWppsPkqi"
      },
      "source": [
        "#### 18. Create a 5x5 matrix with values 1,2,3,4 just below the diagonal (★☆☆) \n",
        "(**hint**: np.diag)"
      ]
    },
    {
      "cell_type": "code",
      "execution_count": null,
      "metadata": {
        "id": "3XNbUmy-Pkqi",
        "colab": {
          "base_uri": "https://localhost:8080/"
        },
        "outputId": "8705388e-35d3-4f0d-b7e0-1cbf8e2dbea5"
      },
      "outputs": [
        {
          "output_type": "stream",
          "name": "stdout",
          "text": [
            "[[0 0 0 0 0]\n",
            " [1 0 0 0 0]\n",
            " [0 2 0 0 0]\n",
            " [0 0 3 0 0]\n",
            " [0 0 0 4 0]]\n"
          ]
        }
      ],
      "source": [
        "import numpy as np\n",
        "Z = np.diag(1+np.arange(4), k = -1)\n",
        "print (Z)"
      ]
    },
    {
      "cell_type": "markdown",
      "metadata": {
        "id": "PllmKEvEPkqj"
      },
      "source": [
        "#### 19. Create a 8x8 matrix and fill it with a checkerboard pattern (★☆☆) \n",
        "(**hint**: array\\[::2\\])"
      ]
    },
    {
      "cell_type": "code",
      "execution_count": null,
      "metadata": {
        "id": "JM0YKszHPkqj",
        "colab": {
          "base_uri": "https://localhost:8080/"
        },
        "outputId": "a5a50d26-5a3d-43bc-e2cb-01a8f474d9bd"
      },
      "outputs": [
        {
          "output_type": "stream",
          "name": "stdout",
          "text": [
            "[[0 1 0 1 0 1 0 1]\n",
            " [1 0 1 0 1 0 1 0]\n",
            " [0 1 0 1 0 1 0 1]\n",
            " [1 0 1 0 1 0 1 0]\n",
            " [0 1 0 1 0 1 0 1]\n",
            " [1 0 1 0 1 0 1 0]\n",
            " [0 1 0 1 0 1 0 1]\n",
            " [1 0 1 0 1 0 1 0]]\n"
          ]
        }
      ],
      "source": [
        "Z = np.zeros ((8,8), dtype=int)\n",
        "Z[1::2, ::2]= 1\n",
        "Z[::2, 1::2] = 1\n",
        "print (Z)"
      ]
    },
    {
      "cell_type": "markdown",
      "metadata": {
        "id": "3TtwGOGtPkqj"
      },
      "source": [
        "#### 20. Consider a (6,7,8) shape array, what is the index (x,y,z) of the 100th element? \n",
        "(**hint**: np.unravel_index)"
      ]
    },
    {
      "cell_type": "code",
      "execution_count": null,
      "metadata": {
        "id": "xSOixFg1Pkqk",
        "colab": {
          "base_uri": "https://localhost:8080/"
        },
        "outputId": "a3d283e7-286d-4339-e753-0a3d78f2234d"
      },
      "outputs": [
        {
          "output_type": "stream",
          "name": "stdout",
          "text": [
            "(1, 5, 4)\n"
          ]
        }
      ],
      "source": [
        "print (np.unravel_index(100, (6,7,8)))"
      ]
    },
    {
      "cell_type": "markdown",
      "metadata": {
        "id": "AQ1WhpgDPkqk"
      },
      "source": [
        "#### 21. Create a checkerboard 8x8 matrix using the tile function (★☆☆) \n",
        "(**hint**: np.tile)"
      ]
    },
    {
      "cell_type": "code",
      "execution_count": null,
      "metadata": {
        "id": "eL9nyPp-Pkqk",
        "colab": {
          "base_uri": "https://localhost:8080/"
        },
        "outputId": "efeb94b9-38ec-492b-e903-0d3dc9bd847e"
      },
      "outputs": [
        {
          "output_type": "stream",
          "name": "stdout",
          "text": [
            "[[1 0 1 0 1 0 1 0]\n",
            " [0 1 0 1 0 1 0 1]\n",
            " [1 0 1 0 1 0 1 0]\n",
            " [0 1 0 1 0 1 0 1]\n",
            " [1 0 1 0 1 0 1 0]\n",
            " [0 1 0 1 0 1 0 1]\n",
            " [1 0 1 0 1 0 1 0]\n",
            " [0 1 0 1 0 1 0 1]]\n"
          ]
        }
      ],
      "source": [
        "array=np.array([[1,0],[0,1]])\n",
        "z=np.tile(array,(4,4))\n",
        "print(z)"
      ]
    },
    {
      "cell_type": "markdown",
      "metadata": {
        "id": "xEdi1cORPkqk"
      },
      "source": [
        "#### 22. Normalize a 5x5 random matrix (★☆☆) \n",
        "(**hint**: (x - min) / (max - min))"
      ]
    },
    {
      "cell_type": "code",
      "execution_count": null,
      "metadata": {
        "id": "vmhyCXhXPkqk",
        "colab": {
          "base_uri": "https://localhost:8080/"
        },
        "outputId": "4a175c3c-b43f-4ecf-d8aa-9bb9e1f96d47"
      },
      "outputs": [
        {
          "output_type": "stream",
          "name": "stdout",
          "text": [
            "[[0.         0.95360723 0.77934749 0.1996419  0.24709341]\n",
            " [0.14470027 0.4202225  0.08112226 0.6431077  0.50517489]\n",
            " [0.1330583  0.63051158 0.05882754 0.28503098 0.25283489]\n",
            " [0.44182652 0.40563069 0.47540345 0.70275189 0.83225209]\n",
            " [0.99086372 0.81339174 0.59133083 1.         0.41266314]]\n"
          ]
        }
      ],
      "source": [
        "x=np.random.random((5,5))\n",
        "xmax,xmin=x.max(),x.min()\n",
        "x=(x-xmin)/(xmax-xmin)\n",
        "print(x)"
      ]
    },
    {
      "cell_type": "markdown",
      "metadata": {
        "id": "UKGqtQq4Pkql"
      },
      "source": [
        "#### 23. Create a custom dtype that describes a color as four unsigned bytes (RGBA) (★☆☆) \n",
        "(**hint**: np.dtype)"
      ]
    },
    {
      "cell_type": "code",
      "execution_count": null,
      "metadata": {
        "collapsed": true,
        "id": "6VoLjGc1Pkql",
        "colab": {
          "base_uri": "https://localhost:8080/"
        },
        "outputId": "fb92b645-f529-499f-d72e-710404d7716a"
      },
      "outputs": [
        {
          "output_type": "stream",
          "name": "stdout",
          "text": [
            "[('r', 'u1'), ('g', 'u1'), ('b', 'u1'), ('a', 'u1')]\n"
          ]
        },
        {
          "output_type": "stream",
          "name": "stderr",
          "text": [
            "/usr/local/lib/python3.7/dist-packages/ipykernel_launcher.py:4: FutureWarning: Passing (type, 1) or '1type' as a synonym of type is deprecated; in a future version of numpy, it will be understood as (type, (1,)) / '(1,)type'.\n",
            "  after removing the cwd from sys.path.\n"
          ]
        }
      ],
      "source": [
        "c=np.dtype([('r',np.ubyte,1),\n",
        "            ('g',np.ubyte,1),\n",
        "            ('b',np.ubyte,1),\n",
        "            ('a',np.ubyte,1)])\n",
        "print(c)"
      ]
    },
    {
      "cell_type": "markdown",
      "metadata": {
        "id": "HUR2LgSJPkql"
      },
      "source": [
        "#### 24. Multiply a 5x3 matrix by a 3x2 matrix (real matrix product) (★☆☆) \n",
        "(**hint**: np.dot | @)"
      ]
    },
    {
      "cell_type": "code",
      "execution_count": null,
      "metadata": {
        "id": "5pANKCR7Pkql",
        "colab": {
          "base_uri": "https://localhost:8080/"
        },
        "outputId": "cbebca45-b87e-4849-8267-3c0a6f5a90f1"
      },
      "outputs": [
        {
          "output_type": "stream",
          "name": "stdout",
          "text": [
            "[[3. 3.]\n",
            " [3. 3.]\n",
            " [3. 3.]\n",
            " [3. 3.]\n",
            " [3. 3.]]\n"
          ]
        }
      ],
      "source": [
        "z=np.dot(np.ones((5,3)),np.ones((3,2)))\n",
        "print(z)"
      ]
    },
    {
      "cell_type": "markdown",
      "metadata": {
        "id": "DbUElBFhPkql"
      },
      "source": [
        "#### 25. Given a 1D array, negate all elements which are between 3 and 8, in place. (★☆☆) \n",
        "(**hint**: >, <=)"
      ]
    },
    {
      "cell_type": "code",
      "execution_count": null,
      "metadata": {
        "id": "NTvl-CbRPkqm",
        "colab": {
          "base_uri": "https://localhost:8080/"
        },
        "outputId": "b800afa6-1723-4616-b145-77feb5900ae3"
      },
      "outputs": [
        {
          "output_type": "stream",
          "name": "stdout",
          "text": [
            "[ 0  1  2  3 -4 -5 -6 -7 -8  9 10]\n"
          ]
        }
      ],
      "source": [
        "z=np.arange(11)\n",
        "z[(3<z)&(z<=8)]*=-1\n",
        "print(z)"
      ]
    },
    {
      "cell_type": "markdown",
      "metadata": {
        "id": "Z29Y8zeJPkqm"
      },
      "source": [
        "#### 26. What is the output of the following script? (★☆☆) \n",
        "(**hint**: np.sum)"
      ]
    },
    {
      "cell_type": "markdown",
      "metadata": {
        "id": "cG7P91APPkqm"
      },
      "source": [
        "```python\n",
        "# Author: Jake VanderPlas\n",
        "\n",
        "print(sum(range(5),-1))\n",
        "from numpy import *\n",
        "print(sum(range(5),-1))\n",
        "```"
      ]
    },
    {
      "cell_type": "code",
      "execution_count": null,
      "metadata": {
        "id": "sySVCoFoPkqm"
      },
      "outputs": [],
      "source": [
        "9\n",
        "10\n"
      ]
    },
    {
      "cell_type": "markdown",
      "metadata": {
        "id": "dp9NxNzlPkqm"
      },
      "source": [
        "#### 27. Consider an integer vector Z, which of these expressions are legal? (★☆☆)"
      ]
    },
    {
      "cell_type": "markdown",
      "metadata": {
        "id": "7eHcKGRsPkqm"
      },
      "source": [
        "```python\n",
        "Z**Z\n",
        "2 << Z >> 2\n",
        "Z <- Z\n",
        "1j*Z\n",
        "Z/1/1\n",
        "Z<Z>Z\n",
        "```"
      ]
    },
    {
      "cell_type": "code",
      "execution_count": null,
      "metadata": {
        "id": "jU-TdZhZPkqn"
      },
      "outputs": [],
      "source": [
        "Z**Z\n",
        "2 << Z >> 2\n",
        "Z <- Z\n",
        "1j*Z\n",
        "Z/1/1"
      ]
    },
    {
      "cell_type": "markdown",
      "metadata": {
        "id": "0WvhSbpuPkqn"
      },
      "source": [
        "#### 28. What are the result of the following expressions?"
      ]
    },
    {
      "cell_type": "markdown",
      "metadata": {
        "id": "CowwwaiDPkqn"
      },
      "source": [
        "```python\n",
        "np.array(0) / np.array(0)\n",
        "np.array(0) // np.array(0)\n",
        "np.array([np.nan]).astype(int).astype(float)\n",
        "```"
      ]
    },
    {
      "cell_type": "code",
      "execution_count": null,
      "metadata": {
        "id": "9pNHrGFSPkqn"
      },
      "outputs": [],
      "source": [
        "array([-9.22337204e+18])\n"
      ]
    },
    {
      "cell_type": "markdown",
      "metadata": {
        "id": "CuNqjVgxPkqn"
      },
      "source": [
        "#### 29. How to round away from zero a float array ? (★☆☆) \n",
        "(**hint**: np.uniform, np.copysign, np.ceil, np.abs)"
      ]
    },
    {
      "cell_type": "code",
      "execution_count": null,
      "metadata": {
        "id": "FKZ0upAEPkqn",
        "colab": {
          "base_uri": "https://localhost:8080/"
        },
        "outputId": "114587e7-b9a4-4c0a-b58c-c0ab97b95545"
      },
      "outputs": [
        {
          "output_type": "stream",
          "name": "stdout",
          "text": [
            "[  5.  10.  -7.   2.   3.   7. -10.   8. -10.  -4.]\n"
          ]
        }
      ],
      "source": [
        "Z = np.random.uniform(-10,+10,10)\n",
        "print (np.copysign(np.ceil(np.abs(Z)), Z))"
      ]
    },
    {
      "cell_type": "markdown",
      "metadata": {
        "id": "bit2n2p4Pkqo"
      },
      "source": [
        "#### 30. How to find common values between two arrays? (★☆☆) \n",
        "(**hint**: np.intersect1d)"
      ]
    },
    {
      "cell_type": "code",
      "execution_count": null,
      "metadata": {
        "id": "-qLe0uQbPkqo",
        "colab": {
          "base_uri": "https://localhost:8080/"
        },
        "outputId": "81e4c600-6f50-4c58-a295-9d9ee44ce681"
      },
      "outputs": [
        {
          "output_type": "stream",
          "name": "stdout",
          "text": [
            "[1 2]\n"
          ]
        }
      ],
      "source": [
        "z=np.random.randint(0,5,5)\n",
        "w=np.random.randint(0,5,5)\n",
        "print(np.intersect1d(z,w))"
      ]
    },
    {
      "cell_type": "markdown",
      "metadata": {
        "id": "tZeif3i4Pkqo"
      },
      "source": [
        "#### 31. How to ignore all numpy warnings (not recommended)? (★☆☆) \n",
        "(**hint**: np.seterr, np.errstate)"
      ]
    },
    {
      "cell_type": "code",
      "execution_count": null,
      "metadata": {
        "id": "DmbUB0cMPkqo",
        "colab": {
          "base_uri": "https://localhost:8080/"
        },
        "outputId": "2a64c45e-5051-46fb-9fa6-7db6829aa1fc"
      },
      "outputs": [
        {
          "output_type": "stream",
          "name": "stdout",
          "text": [
            "{'divide': 'ignore', 'over': 'ignore', 'under': 'ignore', 'invalid': 'ignore'}\n",
            "<numpy.errstate object at 0x7f01469cecd0>\n"
          ]
        }
      ],
      "source": [
        "a=np.seterr(all='ignore')\n",
        "z=np.ones(1)/0\n",
        "print(np.seterr(**a))\n",
        "with np.errstate(divide='ignore'):\n",
        "    Z = np.ones(1) / 0\n",
        "    print(np.errstate(**a))"
      ]
    },
    {
      "cell_type": "markdown",
      "metadata": {
        "id": "d2zY8r7rPkqo"
      },
      "source": [
        "#### 32. Is the following expressions true? (★☆☆) \n",
        "(**hint**: imaginary number)"
      ]
    },
    {
      "cell_type": "markdown",
      "metadata": {
        "id": "zFnMTtkZPkqo"
      },
      "source": [
        "```python\n",
        "np.sqrt(-1) == np.emath.sqrt(-1)\n",
        "```"
      ]
    },
    {
      "cell_type": "code",
      "execution_count": null,
      "metadata": {
        "id": "M68YYF30Pkqp"
      },
      "outputs": [],
      "source": [
        "False"
      ]
    },
    {
      "cell_type": "markdown",
      "metadata": {
        "id": "PbLla_M_Pkqp"
      },
      "source": [
        "#### 33. How to get the dates of yesterday, today and tomorrow? (★☆☆) \n",
        "(**hint**: np.datetime64, np.timedelta64)"
      ]
    },
    {
      "cell_type": "code",
      "execution_count": null,
      "metadata": {
        "collapsed": true,
        "id": "tmpUujpGPkqp",
        "colab": {
          "base_uri": "https://localhost:8080/"
        },
        "outputId": "7078595c-5b2c-4c76-b559-16a16cc25cba"
      },
      "outputs": [
        {
          "output_type": "stream",
          "name": "stdout",
          "text": [
            "2022-10-25\n",
            "2022-10-26\n",
            "2022-10-27\n"
          ]
        }
      ],
      "source": [
        "yes=np.datetime64('today','D')-np.timedelta64(1,'D')\n",
        "tod=np.datetime64('today','D')\n",
        "tomo=np.datetime64('today','D')+np.timedelta64(1,'D')\n",
        "print(yes)\n",
        "print(tod)\n",
        "print(tomo)"
      ]
    },
    {
      "cell_type": "markdown",
      "metadata": {
        "id": "4MJhh8QcPkqp"
      },
      "source": [
        "#### 34. How to get all the dates corresponding to the month of July 2016? (★★☆) \n",
        "(**hint**: np.arange(dtype=datetime64\\['D'\\]))"
      ]
    },
    {
      "cell_type": "code",
      "execution_count": null,
      "metadata": {
        "id": "QhhDDrz3Pkqp",
        "colab": {
          "base_uri": "https://localhost:8080/"
        },
        "outputId": "6aae5c9e-77d6-48d7-b19f-c5286021014c"
      },
      "outputs": [
        {
          "output_type": "stream",
          "name": "stdout",
          "text": [
            "['2016-07-01' '2016-07-02' '2016-07-03' '2016-07-04' '2016-07-05'\n",
            " '2016-07-06' '2016-07-07' '2016-07-08' '2016-07-09' '2016-07-10'\n",
            " '2016-07-11' '2016-07-12' '2016-07-13' '2016-07-14' '2016-07-15'\n",
            " '2016-07-16' '2016-07-17' '2016-07-18' '2016-07-19' '2016-07-20'\n",
            " '2016-07-21' '2016-07-22' '2016-07-23' '2016-07-24' '2016-07-25'\n",
            " '2016-07-26' '2016-07-27' '2016-07-28' '2016-07-29' '2016-07-30'\n",
            " '2016-07-31']\n"
          ]
        }
      ],
      "source": [
        "a=np.arange('2016-07','2016-08',dtype='datetime64[D]')\n",
        "print(a)"
      ]
    },
    {
      "cell_type": "markdown",
      "metadata": {
        "id": "4Jlw_ydtPkqp"
      },
      "source": [
        "#### 35. How to compute ((A+B)\\*(-A/2)) in place (without copy)? (★★☆) \n",
        "(**hint**: np.add(out=), np.negative(out=), np.multiply(out=), np.divide(out=))"
      ]
    },
    {
      "cell_type": "code",
      "execution_count": null,
      "metadata": {
        "id": "EfEP7cJyPkqq",
        "colab": {
          "base_uri": "https://localhost:8080/"
        },
        "outputId": "b41e5b2e-ab4a-46be-923f-bf3c05e0a53d"
      },
      "outputs": [
        {
          "output_type": "execute_result",
          "data": {
            "text/plain": [
              "array([-1.5, -1.5, -1.5])"
            ]
          },
          "metadata": {},
          "execution_count": 3
        }
      ],
      "source": [
        "import numpy as np\n",
        "A=np.ones(3)*1\n",
        "B=np.ones(3)*2\n",
        "C=np.ones(3)*3\n",
        "np.add(A,B, out= B)\n",
        "np.negative(A, out=A)\n",
        "np.multiply(A,B, out=A)\n",
        "np.divide(A,2,out=A)\n"
      ]
    },
    {
      "cell_type": "markdown",
      "metadata": {
        "id": "Xbs2nINUPkqq"
      },
      "source": [
        "#### 36. Extract the integer part of a random array using 5 different methods (★★☆) \n",
        "(**hint**: %, np.floor, np.ceil, astype, np.trunc)"
      ]
    },
    {
      "cell_type": "code",
      "execution_count": null,
      "metadata": {
        "id": "pRkFV_xgPkqq",
        "colab": {
          "base_uri": "https://localhost:8080/"
        },
        "outputId": "c03e6a14-fdfe-4cfa-a20f-93df824d4f0d"
      },
      "outputs": [
        {
          "output_type": "stream",
          "name": "stdout",
          "text": [
            "[4. 7. 3. 5. 2. 6. 6. 9. 1. 2.]\n",
            "[4. 7. 3. 5. 2. 6. 6. 9. 1. 2.]\n",
            "[4. 7. 3. 5. 2. 6. 6. 9. 1. 2.]\n",
            "[4 7 3 5 2 6 6 9 1 2]\n",
            "[4. 7. 3. 5. 2. 6. 6. 9. 1. 2.]\n"
          ]
        }
      ],
      "source": [
        "z=np.random.uniform(0,10,10)\n",
        "print(z-z%1)\n",
        "print(np.floor(z))\n",
        "print(np.ceil(z)-1)\n",
        "print(z.astype(int))\n",
        "print(np.trunc(z))\n"
      ]
    },
    {
      "cell_type": "markdown",
      "metadata": {
        "id": "ve_UzvkfPkqq"
      },
      "source": [
        "#### 37. Create a 5x5 matrix with row values ranging from 0 to 4 (★★☆) \n",
        "(**hint**: np.arange)"
      ]
    },
    {
      "cell_type": "code",
      "execution_count": null,
      "metadata": {
        "id": "fLHo7QtCPkqr",
        "colab": {
          "base_uri": "https://localhost:8080/"
        },
        "outputId": "73214f72-5847-4f71-ef96-e618963f7a73"
      },
      "outputs": [
        {
          "output_type": "stream",
          "name": "stdout",
          "text": [
            "[[0. 1. 2. 3. 4.]\n",
            " [0. 1. 2. 3. 4.]\n",
            " [0. 1. 2. 3. 4.]\n",
            " [0. 1. 2. 3. 4.]\n",
            " [0. 1. 2. 3. 4.]]\n"
          ]
        }
      ],
      "source": [
        "z=np.zeros((5,5))\n",
        "z+=np.arange(5)\n",
        "print(z)"
      ]
    },
    {
      "cell_type": "markdown",
      "metadata": {
        "id": "gfCSvcMsPkqr"
      },
      "source": [
        "#### 38. Consider a generator function that generates 10 integers and use it to build an array (★☆☆) \n",
        "(**hint**: np.fromiter)"
      ]
    },
    {
      "cell_type": "code",
      "execution_count": null,
      "metadata": {
        "id": "KStBlpfaPkqr",
        "colab": {
          "base_uri": "https://localhost:8080/"
        },
        "outputId": "d3939e9d-be5f-49bc-de7a-f6dd969df830"
      },
      "outputs": [
        {
          "output_type": "stream",
          "name": "stdout",
          "text": [
            "[0. 1. 2. 3. 4. 5. 6. 7. 8. 9.]\n"
          ]
        }
      ],
      "source": [
        "def generate():\n",
        "  for x in range(10):\n",
        "    yield x\n",
        "z=np.fromiter(generate(),dtype=float, count=-1)\n",
        "print(z)   "
      ]
    },
    {
      "cell_type": "markdown",
      "metadata": {
        "id": "R5fEVtqHPkqs"
      },
      "source": [
        "#### 39. Create a vector of size 10 with values ranging from 0 to 1, both excluded (★★☆) \n",
        "(**hint**: np.linspace)"
      ]
    },
    {
      "cell_type": "code",
      "execution_count": null,
      "metadata": {
        "id": "Qy40hvQMPkqs",
        "colab": {
          "base_uri": "https://localhost:8080/"
        },
        "outputId": "9c601678-fe77-4b41-c489-587ee90cdfcf"
      },
      "outputs": [
        {
          "output_type": "stream",
          "name": "stdout",
          "text": [
            "[0.09090909 0.18181818 0.27272727 0.36363636 0.45454545 0.54545455\n",
            " 0.63636364 0.72727273 0.81818182 0.90909091]\n"
          ]
        }
      ],
      "source": [
        "z=np.linspace(0,1,11,endpoint=False)[1:]\n",
        "print(z)"
      ]
    },
    {
      "cell_type": "markdown",
      "metadata": {
        "id": "o-tGgH5IPkqs"
      },
      "source": [
        "#### 40. Create a random vector of size 10 and sort it (★★☆) \n",
        "(**hint**: sort)"
      ]
    },
    {
      "cell_type": "code",
      "execution_count": null,
      "metadata": {
        "id": "LnLixtIBPkqs",
        "colab": {
          "base_uri": "https://localhost:8080/"
        },
        "outputId": "96b3331c-2b0b-4c0e-d78a-eba2114039de"
      },
      "outputs": [
        {
          "output_type": "stream",
          "name": "stdout",
          "text": [
            "[0.05359383 0.12516201 0.298798   0.44852468 0.56468768 0.60889996\n",
            " 0.66325049 0.69057847 0.83470782 0.89115242]\n"
          ]
        }
      ],
      "source": [
        "z=np.random.random(10)\n",
        "z.sort()\n",
        "print(z)"
      ]
    },
    {
      "cell_type": "markdown",
      "metadata": {
        "id": "quaXGAvSPkqt"
      },
      "source": [
        "#### 41. How to sum a small array faster than np.sum? (★★☆) \n",
        "(**hint**: np.add.reduce)"
      ]
    },
    {
      "cell_type": "code",
      "execution_count": null,
      "metadata": {
        "id": "dwfBTRYVPkqt",
        "colab": {
          "base_uri": "https://localhost:8080/"
        },
        "outputId": "fcf55133-83bf-444d-9317-dd9105d12286"
      },
      "outputs": [
        {
          "output_type": "stream",
          "name": "stdout",
          "text": [
            "45\n"
          ]
        }
      ],
      "source": [
        "z=np.arange(10)\n",
        "print(np.add.reduce(z))\n"
      ]
    },
    {
      "cell_type": "markdown",
      "metadata": {
        "id": "7EvEPS60Pkqt"
      },
      "source": [
        "#### 42. Consider two random array A and B, check if they are equal (★★☆) \n",
        "(**hint**: np.allclose, np.array\\_equal)"
      ]
    },
    {
      "cell_type": "code",
      "execution_count": null,
      "metadata": {
        "id": "-72MkEWuPkqt",
        "colab": {
          "base_uri": "https://localhost:8080/"
        },
        "outputId": "fa0400e1-1beb-4770-9feb-fb220c3dc40b"
      },
      "outputs": [
        {
          "output_type": "stream",
          "name": "stdout",
          "text": [
            "False\n",
            "False\n"
          ]
        }
      ],
      "source": [
        "A=np.random.randint(0,5,5)\n",
        "B=np.random.randint(0,5,5)\n",
        "eq=np.allclose(A,B)\n",
        "equ=np.array_equal(A,B)\n",
        "print(eq)\n",
        "print(equ)"
      ]
    },
    {
      "cell_type": "markdown",
      "metadata": {
        "id": "fj3m88f5Pkqt"
      },
      "source": [
        "#### 43. Make an array immutable (read-only) (★★☆) \n",
        "(**hint**: flags.writeable)"
      ]
    },
    {
      "cell_type": "code",
      "execution_count": null,
      "metadata": {
        "id": "W08P164wPkqt",
        "colab": {
          "base_uri": "https://localhost:8080/",
          "height": 208
        },
        "outputId": "7162736c-a916-4150-e46d-0894a5c538e8"
      },
      "outputs": [
        {
          "output_type": "error",
          "ename": "ValueError",
          "evalue": "ignored",
          "traceback": [
            "\u001b[0;31m---------------------------------------------------------------------------\u001b[0m",
            "\u001b[0;31mValueError\u001b[0m                                Traceback (most recent call last)",
            "\u001b[0;32m<ipython-input-31-6f107ecfb1e8>\u001b[0m in \u001b[0;36m<module>\u001b[0;34m\u001b[0m\n\u001b[1;32m      1\u001b[0m \u001b[0ma\u001b[0m\u001b[0;34m=\u001b[0m\u001b[0mnp\u001b[0m\u001b[0;34m.\u001b[0m\u001b[0mrandom\u001b[0m\u001b[0;34m.\u001b[0m\u001b[0mrandom\u001b[0m\u001b[0;34m(\u001b[0m\u001b[0;36m10\u001b[0m\u001b[0;34m)\u001b[0m\u001b[0;34m\u001b[0m\u001b[0;34m\u001b[0m\u001b[0m\n\u001b[1;32m      2\u001b[0m \u001b[0ma\u001b[0m\u001b[0;34m.\u001b[0m\u001b[0mflags\u001b[0m\u001b[0;34m.\u001b[0m\u001b[0mwriteable\u001b[0m \u001b[0;34m=\u001b[0m \u001b[0;32mFalse\u001b[0m\u001b[0;34m\u001b[0m\u001b[0;34m\u001b[0m\u001b[0m\n\u001b[0;32m----> 3\u001b[0;31m \u001b[0ma\u001b[0m\u001b[0;34m[\u001b[0m\u001b[0;36m0\u001b[0m\u001b[0;34m]\u001b[0m \u001b[0;34m=\u001b[0m \u001b[0;36m1\u001b[0m\u001b[0;34m\u001b[0m\u001b[0;34m\u001b[0m\u001b[0m\n\u001b[0m",
            "\u001b[0;31mValueError\u001b[0m: assignment destination is read-only"
          ]
        }
      ],
      "source": [
        "a=np.random.random(10)\n",
        "a.flags.writeable = False\n",
        "a[0] = 1"
      ]
    },
    {
      "cell_type": "markdown",
      "metadata": {
        "id": "XWji9J9CPkqt"
      },
      "source": [
        "#### 44. Consider a random 10x2 matrix representing cartesian coordinates, convert them to polar coordinates (★★☆) \n",
        "(**hint**: np.sqrt, np.arctan2)"
      ]
    },
    {
      "cell_type": "code",
      "execution_count": null,
      "metadata": {
        "id": "i8VOwYcSPkqu",
        "colab": {
          "base_uri": "https://localhost:8080/"
        },
        "outputId": "3954800c-3f4d-4d55-f5f8-7c424215c562"
      },
      "outputs": [
        {
          "output_type": "stream",
          "name": "stdout",
          "text": [
            "[0.3354423  0.88220741 0.83791068 0.26496149 0.6486573  0.58464418\n",
            " 0.87307417 0.7660136  0.63917417 0.73246105]\n",
            "[0.18556691 1.30215856 1.53058728 0.95039056 0.60403772 1.38923891\n",
            " 0.20908117 1.42733156 0.56487346 0.55373191]\n"
          ]
        }
      ],
      "source": [
        "a=np.random.random((10,2))\n",
        "b,c=a[:,0],a[:,1]\n",
        "d=np.sqrt(b**2+c**2)\n",
        "e=np.arctan2(c,b)\n",
        "print(d)\n",
        "print(e)"
      ]
    },
    {
      "cell_type": "markdown",
      "metadata": {
        "id": "cTRTd5JfPkqu"
      },
      "source": [
        "#### 45. Create random vector of size 10 and replace the maximum value by 0 (★★☆) \n",
        "(**hint**: argmax)"
      ]
    },
    {
      "cell_type": "code",
      "execution_count": null,
      "metadata": {
        "id": "Xf_kuVq_Pkqu",
        "colab": {
          "base_uri": "https://localhost:8080/"
        },
        "outputId": "7a793853-9fc1-44a2-a49e-18d626d8b97f"
      },
      "outputs": [
        {
          "output_type": "stream",
          "name": "stdout",
          "text": [
            "[0.         0.88948373 0.09137998 0.02014325 0.94362045 0.34469797\n",
            " 0.36976794 0.66733542 0.86995259 0.69338852]\n"
          ]
        }
      ],
      "source": [
        "z=np.random.random(10)\n",
        "z[z.argmax()]=0\n",
        "print(z)"
      ]
    },
    {
      "cell_type": "markdown",
      "metadata": {
        "id": "3_BndkXoPkqu"
      },
      "source": [
        "#### 46. Create a structured array with `x` and `y` coordinates covering the \\[0,1\\]x\\[0,1\\] area (★★☆) \n",
        "(**hint**: np.meshgrid)"
      ]
    },
    {
      "cell_type": "code",
      "execution_count": null,
      "metadata": {
        "id": "yYBWInyxPkqu",
        "colab": {
          "base_uri": "https://localhost:8080/"
        },
        "outputId": "b4afd265-05fd-45d9-afa4-946be00e713a"
      },
      "outputs": [
        {
          "output_type": "stream",
          "name": "stdout",
          "text": [
            "[[(0.        , 0.        ) (0.11111111, 0.        )\n",
            "  (0.22222222, 0.        ) (0.33333333, 0.        )\n",
            "  (0.44444444, 0.        ) (0.55555556, 0.        )\n",
            "  (0.66666667, 0.        ) (0.77777778, 0.        )\n",
            "  (0.88888889, 0.        ) (1.        , 0.        )]\n",
            " [(0.        , 0.11111111) (0.11111111, 0.11111111)\n",
            "  (0.22222222, 0.11111111) (0.33333333, 0.11111111)\n",
            "  (0.44444444, 0.11111111) (0.55555556, 0.11111111)\n",
            "  (0.66666667, 0.11111111) (0.77777778, 0.11111111)\n",
            "  (0.88888889, 0.11111111) (1.        , 0.11111111)]\n",
            " [(0.        , 0.22222222) (0.11111111, 0.22222222)\n",
            "  (0.22222222, 0.22222222) (0.33333333, 0.22222222)\n",
            "  (0.44444444, 0.22222222) (0.55555556, 0.22222222)\n",
            "  (0.66666667, 0.22222222) (0.77777778, 0.22222222)\n",
            "  (0.88888889, 0.22222222) (1.        , 0.22222222)]\n",
            " [(0.        , 0.33333333) (0.11111111, 0.33333333)\n",
            "  (0.22222222, 0.33333333) (0.33333333, 0.33333333)\n",
            "  (0.44444444, 0.33333333) (0.55555556, 0.33333333)\n",
            "  (0.66666667, 0.33333333) (0.77777778, 0.33333333)\n",
            "  (0.88888889, 0.33333333) (1.        , 0.33333333)]\n",
            " [(0.        , 0.44444444) (0.11111111, 0.44444444)\n",
            "  (0.22222222, 0.44444444) (0.33333333, 0.44444444)\n",
            "  (0.44444444, 0.44444444) (0.55555556, 0.44444444)\n",
            "  (0.66666667, 0.44444444) (0.77777778, 0.44444444)\n",
            "  (0.88888889, 0.44444444) (1.        , 0.44444444)]\n",
            " [(0.        , 0.55555556) (0.11111111, 0.55555556)\n",
            "  (0.22222222, 0.55555556) (0.33333333, 0.55555556)\n",
            "  (0.44444444, 0.55555556) (0.55555556, 0.55555556)\n",
            "  (0.66666667, 0.55555556) (0.77777778, 0.55555556)\n",
            "  (0.88888889, 0.55555556) (1.        , 0.55555556)]\n",
            " [(0.        , 0.66666667) (0.11111111, 0.66666667)\n",
            "  (0.22222222, 0.66666667) (0.33333333, 0.66666667)\n",
            "  (0.44444444, 0.66666667) (0.55555556, 0.66666667)\n",
            "  (0.66666667, 0.66666667) (0.77777778, 0.66666667)\n",
            "  (0.88888889, 0.66666667) (1.        , 0.66666667)]\n",
            " [(0.        , 0.77777778) (0.11111111, 0.77777778)\n",
            "  (0.22222222, 0.77777778) (0.33333333, 0.77777778)\n",
            "  (0.44444444, 0.77777778) (0.55555556, 0.77777778)\n",
            "  (0.66666667, 0.77777778) (0.77777778, 0.77777778)\n",
            "  (0.88888889, 0.77777778) (1.        , 0.77777778)]\n",
            " [(0.        , 0.88888889) (0.11111111, 0.88888889)\n",
            "  (0.22222222, 0.88888889) (0.33333333, 0.88888889)\n",
            "  (0.44444444, 0.88888889) (0.55555556, 0.88888889)\n",
            "  (0.66666667, 0.88888889) (0.77777778, 0.88888889)\n",
            "  (0.88888889, 0.88888889) (1.        , 0.88888889)]\n",
            " [(0.        , 1.        ) (0.11111111, 1.        )\n",
            "  (0.22222222, 1.        ) (0.33333333, 1.        )\n",
            "  (0.44444444, 1.        ) (0.55555556, 1.        )\n",
            "  (0.66666667, 1.        ) (0.77777778, 1.        )\n",
            "  (0.88888889, 1.        ) (1.        , 1.        )]]\n"
          ]
        }
      ],
      "source": [
        "Z = np.zeros((10,10), [('x',float),('y',float)])\n",
        "Z['x'], Z['y'] = np.meshgrid(np.linspace(0,1,10),\n",
        "                             np.linspace(0,1,10))\n",
        "print(Z)"
      ]
    },
    {
      "cell_type": "markdown",
      "metadata": {
        "id": "fyqIs33LPkqu"
      },
      "source": [
        "####  47. Given two arrays, X and Y, construct the Cauchy matrix C (Cij =1/(xi - yj)) \n",
        "(**hint**: np.subtract.outer)"
      ]
    },
    {
      "cell_type": "code",
      "execution_count": null,
      "metadata": {
        "id": "wrxlqNrBPkqv",
        "colab": {
          "base_uri": "https://localhost:8080/"
        },
        "outputId": "dde1cad4-2bfe-43d7-c1a6-ace863e2612e"
      },
      "outputs": [
        {
          "output_type": "stream",
          "name": "stdout",
          "text": [
            "3638.163637117973\n"
          ]
        }
      ],
      "source": [
        "X = np.arange(8)\n",
        "Y = X + 0.5\n",
        "C = 1.0 / np.subtract.outer(X, Y)\n",
        "print(np.linalg.det(C))"
      ]
    },
    {
      "cell_type": "markdown",
      "metadata": {
        "id": "QrSEc3VJPkqv"
      },
      "source": [
        "#### 48. Print the minimum and maximum representable value for each numpy scalar type (★★☆) \n",
        "(**hint**: np.iinfo, np.finfo, eps)"
      ]
    },
    {
      "cell_type": "code",
      "execution_count": null,
      "metadata": {
        "id": "zMgqKryoPkqv",
        "colab": {
          "base_uri": "https://localhost:8080/"
        },
        "outputId": "833e0931-a2a6-44ec-d92a-8bc859b5c378"
      },
      "outputs": [
        {
          "output_type": "stream",
          "name": "stdout",
          "text": [
            "-128\n",
            "127\n",
            "-2147483648\n",
            "2147483647\n",
            "-9223372036854775808\n",
            "9223372036854775807\n",
            "-3.4028235e+38\n",
            "3.4028235e+38\n",
            "1.1920929e-07\n",
            "-1.7976931348623157e+308\n",
            "1.7976931348623157e+308\n",
            "2.220446049250313e-16\n"
          ]
        }
      ],
      "source": [
        "for dtype in [np.int8, np.int32, np.int64]:\n",
        "   print(np.iinfo(dtype).min)\n",
        "   print(np.iinfo(dtype).max)\n",
        "for dtype in [np.float32, np.float64]:\n",
        "   print(np.finfo(dtype).min)\n",
        "   print(np.finfo(dtype).max)\n",
        "   print(np.finfo(dtype).eps)"
      ]
    },
    {
      "cell_type": "markdown",
      "metadata": {
        "id": "NkStCEOvPkqv"
      },
      "source": [
        "#### 49. How to print all the values of an array? (★★☆) \n",
        "(**hint**: np.set\\_printoptions)"
      ]
    },
    {
      "cell_type": "code",
      "execution_count": null,
      "metadata": {
        "id": "_1QW6FYRPkqv",
        "colab": {
          "base_uri": "https://localhost:8080/"
        },
        "outputId": "ff375abe-03c8-4861-bff7-f3f8700212c9"
      },
      "outputs": [
        {
          "output_type": "stream",
          "name": "stdout",
          "text": [
            "[[0. 0. 0. 0. 0. 0.]\n",
            " [0. 0. 0. 0. 0. 0.]\n",
            " [0. 0. 0. 0. 0. 0.]\n",
            " [0. 0. 0. 0. 0. 0.]\n",
            " [0. 0. 0. 0. 0. 0.]\n",
            " [0. 0. 0. 0. 0. 0.]]\n"
          ]
        }
      ],
      "source": [
        "\n",
        "np.set_printoptions(threshold=np.inf)\n",
        "Z = np.zeros((6,6))\n",
        "print(Z)"
      ]
    },
    {
      "cell_type": "markdown",
      "metadata": {
        "id": "hQBDLhTVPkqv"
      },
      "source": [
        "#### 50. How to find the closest value (to a given scalar) in a vector? (★★☆) \n",
        "(**hint**: argmin)"
      ]
    },
    {
      "cell_type": "code",
      "execution_count": null,
      "metadata": {
        "id": "Tyvu9StWPkqv",
        "colab": {
          "base_uri": "https://localhost:8080/"
        },
        "outputId": "66fb0208-f0f3-406d-a3a6-588096499d2f"
      },
      "outputs": [
        {
          "output_type": "stream",
          "name": "stdout",
          "text": [
            "48\n"
          ]
        }
      ],
      "source": [
        "Z = np.arange(100)\n",
        "v = np.random.uniform(0,100)\n",
        "index = (np.abs(Z-v)).argmin()\n",
        "print(Z[index])"
      ]
    },
    {
      "cell_type": "markdown",
      "metadata": {
        "id": "-pO0O5cwPkqv"
      },
      "source": [
        "#### 51. Create a structured array representing a position (x,y) and a color (r,g,b) (★★☆) \n",
        "(**hint**: dtype)"
      ]
    },
    {
      "cell_type": "code",
      "execution_count": null,
      "metadata": {
        "id": "Thkkx4P0Pkqw",
        "colab": {
          "base_uri": "https://localhost:8080/"
        },
        "outputId": "22dba5d2-4ea2-4550-b2f2-80dd6c4e9e74"
      },
      "outputs": [
        {
          "output_type": "stream",
          "name": "stdout",
          "text": [
            "[((0., 0.), (0., 0., 0.)) ((0., 0.), (0., 0., 0.))\n",
            " ((0., 0.), (0., 0., 0.)) ((0., 0.), (0., 0., 0.))\n",
            " ((0., 0.), (0., 0., 0.)) ((0., 0.), (0., 0., 0.))\n",
            " ((0., 0.), (0., 0., 0.)) ((0., 0.), (0., 0., 0.))\n",
            " ((0., 0.), (0., 0., 0.)) ((0., 0.), (0., 0., 0.))]\n"
          ]
        },
        {
          "output_type": "stream",
          "name": "stderr",
          "text": [
            "/usr/local/lib/python3.7/dist-packages/ipykernel_launcher.py:5: FutureWarning: Passing (type, 1) or '1type' as a synonym of type is deprecated; in a future version of numpy, it will be understood as (type, (1,)) / '(1,)type'.\n",
            "  \"\"\"\n"
          ]
        }
      ],
      "source": [
        "Z = np.zeros(10, [ ('position', [ ('x', float, 1),\n",
        "                                   ('y', float, 1)]),\n",
        "                    ('color',    [ ('r', float, 1),\n",
        "                                   ('g', float, 1),\n",
        "                                   ('b', float, 1)])])\n",
        "print(Z)"
      ]
    },
    {
      "cell_type": "markdown",
      "metadata": {
        "id": "P_sYGVmzPkqw"
      },
      "source": [
        "#### 52. Consider a random vector with shape (100,2) representing coordinates, find point by point distances (★★☆) \n",
        "(**hint**: np.atleast\\_2d, T, np.sqrt)"
      ]
    },
    {
      "cell_type": "code",
      "execution_count": null,
      "metadata": {
        "id": "BXqYDVtqPkqw",
        "colab": {
          "base_uri": "https://localhost:8080/"
        },
        "outputId": "d51abec1-8ac0-42d6-94e6-d1fcaccbe5a6"
      },
      "outputs": [
        {
          "output_type": "stream",
          "name": "stdout",
          "text": [
            "[[0.         1.07122411 0.70391933 0.55746427 0.62425789 0.22503763\n",
            "  0.87565535 0.38451202 0.72595699 0.68714004]\n",
            " [1.07122411 0.         0.83759306 0.90325147 0.47651368 0.93079194\n",
            "  0.93463533 0.73018755 0.88965987 0.52940766]\n",
            " [0.70391933 0.83759306 0.         1.02936763 0.45801403 0.76786268\n",
            "  1.27930615 0.41259167 1.14784164 0.323412  ]\n",
            " [0.55746427 0.90325147 1.02936763 0.         0.67204456 0.33922219\n",
            "  0.31850198 0.61837469 0.1700281  0.82220562]\n",
            " [0.62425789 0.47651368 0.45801403 0.67204456 0.         0.54027888\n",
            "  0.86321919 0.25657727 0.75004203 0.16028481]\n",
            " [0.22503763 0.93079194 0.76786268 0.33922219 0.54027888 0.\n",
            "  0.65501488 0.36870517 0.50482375 0.64983546]\n",
            " [0.87565535 0.93463533 1.27930615 0.31850198 0.86321919 0.65501488\n",
            "  0.         0.88406105 0.15022094 1.02325343]\n",
            " [0.38451202 0.73018755 0.41259167 0.61837469 0.25657727 0.36870517\n",
            "  0.88406105 0.         0.74563587 0.30328313]\n",
            " [0.72595699 0.88965987 1.14784164 0.1700281  0.75004203 0.50482375\n",
            "  0.15022094 0.74563587 0.         0.90810138]\n",
            " [0.68714004 0.52940766 0.323412   0.82220562 0.16028481 0.64983546\n",
            "  1.02325343 0.30328313 0.90810138 0.        ]]\n"
          ]
        }
      ],
      "source": [
        " Z= np.random.random((10,2))\n",
        "X,Y = np.atleast_2d(Z[:,0]), np.atleast_2d(Z[:,1])\n",
        "D = np.sqrt( (X-X.T)**2 + (Y-Y.T)**2)\n",
        "print(D)\n"
      ]
    },
    {
      "cell_type": "markdown",
      "metadata": {
        "id": "7CDimdVqPkqw"
      },
      "source": [
        "#### 53. How to convert a float (32 bits) array into an integer (32 bits) in place? \n",
        "(**hint**: astype(copy=False))"
      ]
    },
    {
      "cell_type": "code",
      "execution_count": null,
      "metadata": {
        "id": "Z_ONGiJRPkqw",
        "colab": {
          "base_uri": "https://localhost:8080/"
        },
        "outputId": "a80f2d87-023c-4db1-ecc0-c9d3b1f4490b"
      },
      "outputs": [
        {
          "output_type": "stream",
          "name": "stdout",
          "text": [
            "[0. 1. 2. 3. 4. 5. 6. 7. 8. 9.]\n"
          ]
        }
      ],
      "source": [
        "Z = np.arange(10, dtype=np.int32)\n",
        "Z = Z.astype(np.float32, copy=False)\n",
        "print(Z)"
      ]
    },
    {
      "cell_type": "markdown",
      "metadata": {
        "id": "WHd1RZQgPkqx"
      },
      "source": [
        "#### 54. How to read the following file? (★★☆) \n",
        "(**hint**: np.genfromtxt)"
      ]
    },
    {
      "cell_type": "markdown",
      "metadata": {
        "id": "LdG05AVgPkqx"
      },
      "source": [
        "```\n",
        "1, 2, 3, 4, 5\n",
        "6,  ,  , 7, 8\n",
        " ,  , 9,10,11\n",
        "```"
      ]
    },
    {
      "cell_type": "code",
      "execution_count": null,
      "metadata": {
        "id": "YQqeJxIDPkqx",
        "colab": {
          "base_uri": "https://localhost:8080/"
        },
        "outputId": "3c6ddbeb-cfdb-4ca9-f719-8f9dc3f78a20"
      },
      "outputs": [
        {
          "output_type": "stream",
          "name": "stdout",
          "text": [
            "[0. 1. 2. 3. 4. 5. 6. 7. 8. 9.]\n"
          ]
        }
      ],
      "source": [
        "Z = np.arange(10, dtype=np.int32)\n",
        "Z = Z.astype(np.float32, copy=False)\n",
        "print(Z)"
      ]
    },
    {
      "cell_type": "markdown",
      "metadata": {
        "id": "xCajSK88Pkqx"
      },
      "source": [
        "#### 55. What is the equivalent of enumerate for numpy arrays? (★★☆) \n",
        "(**hint**: np.ndenumerate, np.ndindex)"
      ]
    },
    {
      "cell_type": "code",
      "execution_count": null,
      "metadata": {
        "id": "-FRGNXQrPkqy",
        "colab": {
          "base_uri": "https://localhost:8080/"
        },
        "outputId": "7877bc1d-a0a3-48af-ba66-1d3d9295759d"
      },
      "outputs": [
        {
          "output_type": "stream",
          "name": "stdout",
          "text": [
            "(0, 0) 0\n",
            "(0, 1) 1\n",
            "(0, 2) 2\n",
            "(1, 0) 3\n",
            "(1, 1) 4\n",
            "(1, 2) 5\n",
            "(2, 0) 6\n",
            "(2, 1) 7\n",
            "(2, 2) 8\n",
            "(0, 0) 0\n",
            "(0, 1) 1\n",
            "(0, 2) 2\n",
            "(1, 0) 3\n",
            "(1, 1) 4\n",
            "(1, 2) 5\n",
            "(2, 0) 6\n",
            "(2, 1) 7\n",
            "(2, 2) 8\n"
          ]
        }
      ],
      "source": [
        "import numpy as np\n",
        "Z = np.arange(9).reshape(3,3)\n",
        "for index, value in np.ndenumerate(Z):\n",
        "    print(index, value)\n",
        "for index in np.ndindex(Z.shape):\n",
        "    print(index, Z[index])"
      ]
    },
    {
      "cell_type": "markdown",
      "metadata": {
        "id": "orU6N_a1Pkqy"
      },
      "source": [
        "#### 56. Generate a generic 2D Gaussian-like array (★★☆) \n",
        "(**hint**: np.meshgrid, np.exp)"
      ]
    },
    {
      "cell_type": "code",
      "execution_count": null,
      "metadata": {
        "id": "q0BhPcE9Pkqy",
        "colab": {
          "base_uri": "https://localhost:8080/"
        },
        "outputId": "da2a88ce-f4d2-4a54-f674-a3ae2aca7c01"
      },
      "outputs": [
        {
          "output_type": "stream",
          "name": "stdout",
          "text": [
            "[[0.36787944 0.44822088 0.51979489 0.57375342 0.60279818 0.60279818\n",
            "  0.57375342 0.51979489 0.44822088 0.36787944]\n",
            " [0.44822088 0.54610814 0.63331324 0.69905581 0.73444367 0.73444367\n",
            "  0.69905581 0.63331324 0.54610814 0.44822088]\n",
            " [0.51979489 0.63331324 0.73444367 0.81068432 0.85172308 0.85172308\n",
            "  0.81068432 0.73444367 0.63331324 0.51979489]\n",
            " [0.57375342 0.69905581 0.81068432 0.89483932 0.9401382  0.9401382\n",
            "  0.89483932 0.81068432 0.69905581 0.57375342]\n",
            " [0.60279818 0.73444367 0.85172308 0.9401382  0.98773022 0.98773022\n",
            "  0.9401382  0.85172308 0.73444367 0.60279818]\n",
            " [0.60279818 0.73444367 0.85172308 0.9401382  0.98773022 0.98773022\n",
            "  0.9401382  0.85172308 0.73444367 0.60279818]\n",
            " [0.57375342 0.69905581 0.81068432 0.89483932 0.9401382  0.9401382\n",
            "  0.89483932 0.81068432 0.69905581 0.57375342]\n",
            " [0.51979489 0.63331324 0.73444367 0.81068432 0.85172308 0.85172308\n",
            "  0.81068432 0.73444367 0.63331324 0.51979489]\n",
            " [0.44822088 0.54610814 0.63331324 0.69905581 0.73444367 0.73444367\n",
            "  0.69905581 0.63331324 0.54610814 0.44822088]\n",
            " [0.36787944 0.44822088 0.51979489 0.57375342 0.60279818 0.60279818\n",
            "  0.57375342 0.51979489 0.44822088 0.36787944]]\n"
          ]
        }
      ],
      "source": [
        "A,B=np.meshgrid(np.linspace(-1,1,10),np.linspace(-1,1,10))\n",
        "D=np.sqrt(A*A+B*B)\n",
        "s,m=1.0,0.0\n",
        "E = np.exp(-( (D-m)**2 / ( 2.0 * s**2 ) ) )\n",
        "print(E)"
      ]
    },
    {
      "cell_type": "markdown",
      "metadata": {
        "id": "rWgAOsuMPkqy"
      },
      "source": [
        "#### 57. How to randomly place p elements in a 2D array? (★★☆) \n",
        "(**hint**: np.put, np.random.choice)"
      ]
    },
    {
      "cell_type": "code",
      "execution_count": null,
      "metadata": {
        "id": "urvcsB-2Pkqy",
        "colab": {
          "base_uri": "https://localhost:8080/"
        },
        "outputId": "321754a3-6465-4d67-cc9d-f5cd18e251c6"
      },
      "outputs": [
        {
          "output_type": "stream",
          "name": "stdout",
          "text": [
            "[[0. 0. 0. 0. 0. 0. 0. 0. 0. 0.]\n",
            " [0. 0. 0. 0. 0. 0. 0. 0. 0. 0.]\n",
            " [0. 1. 0. 0. 0. 0. 0. 0. 0. 1.]\n",
            " [0. 0. 0. 0. 0. 0. 0. 0. 0. 0.]\n",
            " [0. 0. 0. 0. 0. 0. 0. 0. 0. 0.]\n",
            " [0. 0. 0. 0. 0. 0. 0. 0. 0. 0.]\n",
            " [0. 0. 0. 0. 0. 0. 0. 0. 0. 0.]\n",
            " [0. 0. 0. 0. 0. 0. 0. 0. 0. 0.]\n",
            " [0. 0. 0. 0. 0. 0. 0. 0. 0. 0.]\n",
            " [0. 0. 1. 0. 0. 0. 0. 0. 0. 0.]]\n"
          ]
        }
      ],
      "source": [
        "n = 10\n",
        "p = 3\n",
        "Z = np.zeros((n,n))\n",
        "np.put(Z, np.random.choice(range(n*n), p, replace=False),1)\n",
        "print (Z)"
      ]
    },
    {
      "cell_type": "markdown",
      "metadata": {
        "id": "nlawvFlxPkqy"
      },
      "source": [
        "#### 58. Subtract the mean of each row of a matrix (★★☆) \n",
        "(**hint**: mean(axis=,keepdims=))"
      ]
    },
    {
      "cell_type": "code",
      "execution_count": null,
      "metadata": {
        "id": "9ijhSMWOPkqz",
        "colab": {
          "base_uri": "https://localhost:8080/"
        },
        "outputId": "def5a57c-5af4-496f-c445-b6bd6988bf3c"
      },
      "outputs": [
        {
          "output_type": "stream",
          "name": "stdout",
          "text": [
            "[[ 0.04402808 -0.14540796 -0.40915017  0.29874306 -0.27584033  0.2846107\n",
            "   0.34723458 -0.06289994  0.26924086 -0.35055888]\n",
            " [ 0.32280752  0.05065268 -0.19780064  0.44960897 -0.09873197 -0.07912736\n",
            "   0.14577441  0.02378405 -0.3012596  -0.31570806]\n",
            " [-0.11318235 -0.28193797 -0.26827751 -0.04278961 -0.27120676  0.57456232\n",
            "   0.5823637   0.12723843 -0.1605795  -0.14619075]\n",
            " [-0.4301133  -0.23561485  0.37755323 -0.24467615  0.05034838 -0.04736814\n",
            "   0.01084771  0.29610476  0.10448476  0.11843359]\n",
            " [-0.21124378 -0.27403988 -0.02533652 -0.24342155  0.53164537  0.11629651\n",
            "   0.41804769 -0.25535224 -0.31485087  0.25825526]]\n"
          ]
        }
      ],
      "source": [
        "a=np.random.rand(5,10)\n",
        "b=a-a.mean(axis=1,keepdims=True)\n",
        "print(b)"
      ]
    },
    {
      "cell_type": "markdown",
      "metadata": {
        "id": "YFSJupJEPkqz"
      },
      "source": [
        "#### 59. How to sort an array by the nth column? (★★☆) \n",
        "(**hint**: argsort)"
      ]
    },
    {
      "cell_type": "code",
      "execution_count": null,
      "metadata": {
        "id": "MAh_Rk9kPkqz",
        "colab": {
          "base_uri": "https://localhost:8080/"
        },
        "outputId": "c0012e91-c20f-40ec-867c-94489f292483"
      },
      "outputs": [
        {
          "output_type": "stream",
          "name": "stdout",
          "text": [
            "[[8 7 8]\n",
            " [4 4 6]\n",
            " [1 7 1]]\n",
            "[[4 4 6]\n",
            " [8 7 8]\n",
            " [1 7 1]]\n"
          ]
        }
      ],
      "source": [
        "Z = np.random.randint(0,10,(3,3))\n",
        "print(Z)\n",
        "print(Z[Z[:,1].argsort()])"
      ]
    },
    {
      "cell_type": "markdown",
      "metadata": {
        "id": "sJLbtooyPkqz"
      },
      "source": [
        "#### 60. How to tell if a given 2D array has null columns? (★★☆) \n",
        "(**hint**: any, ~)"
      ]
    },
    {
      "cell_type": "code",
      "execution_count": null,
      "metadata": {
        "id": "m769alC7Pkqz",
        "colab": {
          "base_uri": "https://localhost:8080/"
        },
        "outputId": "deabedbd-a75c-487b-8f27-5ae829c6316a"
      },
      "outputs": [
        {
          "output_type": "stream",
          "name": "stdout",
          "text": [
            "False\n"
          ]
        }
      ],
      "source": [
        "Z = np.random.randint(0,3,(3,10))\n",
        "print((~Z.any(axis=0)).any())"
      ]
    },
    {
      "cell_type": "markdown",
      "metadata": {
        "id": "IqjpjMJqPkqz"
      },
      "source": [
        "#### 61. Find the nearest value from a given value in an array (★★☆) \n",
        "(**hint**: np.abs, argmin, flat)"
      ]
    },
    {
      "cell_type": "code",
      "execution_count": null,
      "metadata": {
        "id": "k5IzU7aVPkqz",
        "colab": {
          "base_uri": "https://localhost:8080/"
        },
        "outputId": "36fb7f57-f763-41ab-bb40-3034f962a2a7"
      },
      "outputs": [
        {
          "output_type": "stream",
          "name": "stdout",
          "text": [
            "0.51577144309026\n"
          ]
        }
      ],
      "source": [
        "Z = np.random.uniform(0,1,10)\n",
        "z = 0.5\n",
        "m = Z.flat[np.abs(Z - z).argmin()]\n",
        "print(m)"
      ]
    },
    {
      "cell_type": "markdown",
      "metadata": {
        "id": "QeLM0ZAfPkq0"
      },
      "source": [
        "#### 62. Considering two arrays with shape (1,3) and (3,1), how to compute their sum using an iterator? (★★☆) \n",
        "(**hint**: np.nditer)"
      ]
    },
    {
      "cell_type": "code",
      "execution_count": null,
      "metadata": {
        "id": "3c4hegjUPkq0",
        "colab": {
          "base_uri": "https://localhost:8080/"
        },
        "outputId": "19bde1a2-1ca7-4b6d-c3b1-3c5d55ac3d96"
      },
      "outputs": [
        {
          "output_type": "stream",
          "name": "stdout",
          "text": [
            "[[0 1 2]\n",
            " [1 2 3]\n",
            " [2 3 4]]\n"
          ]
        }
      ],
      "source": [
        "A = np.arange(3).reshape(3,1)\n",
        "B = np.arange(3).reshape(1,3)\n",
        "it = np.nditer([A,B,None])\n",
        "for x,y,z in it: z[...] = x + y\n",
        "print(it.operands[2])"
      ]
    },
    {
      "cell_type": "markdown",
      "metadata": {
        "id": "A2Apmb7yPkq0"
      },
      "source": [
        "#### 63. Create an array class that has a name attribute (★★☆) \n",
        "(**hint**: class method)"
      ]
    },
    {
      "cell_type": "code",
      "execution_count": null,
      "metadata": {
        "id": "8qtwwxrxPkq0",
        "colab": {
          "base_uri": "https://localhost:8080/"
        },
        "outputId": "4a8a332b-448e-4ece-be2e-ce60e74c4c17"
      },
      "outputs": [
        {
          "output_type": "stream",
          "name": "stdout",
          "text": [
            "range_10\n"
          ]
        }
      ],
      "source": [
        "class NamedArray(np.ndarray):\n",
        "    def __new__(cls, array, name=\"no name\"):\n",
        "        obj = np.asarray(array).view(cls)\n",
        "        obj.name = name\n",
        "        return obj\n",
        "    def __array_finalize__(self, obj):\n",
        "        if obj is None: return\n",
        "        self.info = getattr(obj, 'name', \"no name\")\n",
        "\n",
        "Z = NamedArray(np.arange(10), \"range_10\")\n",
        "print (Z.name)"
      ]
    },
    {
      "cell_type": "markdown",
      "metadata": {
        "id": "S0NOQyb5Pkq0"
      },
      "source": [
        "#### 64. Consider a given vector, how to add 1 to each element indexed by a second vector (be careful with repeated indices)? (★★★) \n",
        "(**hint**: np.bincount | np.add.at)"
      ]
    },
    {
      "cell_type": "code",
      "execution_count": null,
      "metadata": {
        "id": "v8I-NF4UPkq0",
        "colab": {
          "base_uri": "https://localhost:8080/"
        },
        "outputId": "d5833ed5-4cd8-4a06-f963-1796307a3220"
      },
      "outputs": [
        {
          "output_type": "stream",
          "name": "stdout",
          "text": [
            "[3. 5. 9. 7. 1. 3. 7. 5. 5. 5.]\n"
          ]
        }
      ],
      "source": [
        "Z = np.ones(10)\n",
        "I = np.random.randint(0,len(Z),20)\n",
        "Z += np.bincount(I, minlength=len(Z))\n",
        "np.add.at(Z, I, 1)\n",
        "print(Z)"
      ]
    },
    {
      "cell_type": "markdown",
      "metadata": {
        "id": "2FOVWO_qPkq1"
      },
      "source": [
        "#### 65. How to accumulate elements of a vector (X) to an array (F) based on an index list (I)? (★★★) \n",
        "(**hint**: np.bincount)"
      ]
    },
    {
      "cell_type": "code",
      "execution_count": null,
      "metadata": {
        "id": "GWSsrOKkPkq1",
        "colab": {
          "base_uri": "https://localhost:8080/"
        },
        "outputId": "8919c1c8-af0c-405e-bef4-d78f8a9a8cea"
      },
      "outputs": [
        {
          "output_type": "stream",
          "name": "stdout",
          "text": [
            "[0. 7. 0. 6. 5. 0. 0. 0. 0. 3.]\n"
          ]
        }
      ],
      "source": [
        "X = [1,2,3,4,5,6]\n",
        "I = [1,3,9,3,4,1]\n",
        "F = np.bincount(I,X)\n",
        "print(F)"
      ]
    },
    {
      "cell_type": "markdown",
      "metadata": {
        "id": "b5FPIUIFPkq1"
      },
      "source": [
        "#### 66. Considering a (w,h,3) image of (dtype=ubyte), compute the number of unique colors (★★★) \n",
        "(**hint**: np.unique)"
      ]
    },
    {
      "cell_type": "code",
      "execution_count": null,
      "metadata": {
        "id": "wJZAmd8NPkq1",
        "colab": {
          "base_uri": "https://localhost:8080/"
        },
        "outputId": "a6a95bd0-1466-4f86-e635-442cd4ca5613"
      },
      "outputs": [
        {
          "output_type": "stream",
          "name": "stdout",
          "text": [
            "[0 1]\n"
          ]
        }
      ],
      "source": [
        "w,h = 16,16\n",
        "I = np.random.randint(0,2,(h,w,3)).astype(np.ubyte)\n",
        "F = I[...,0]*256*256 + I[...,1]*256 +I[...,2]\n",
        "n = len(np.unique(F))\n",
        "print(np.unique(I))"
      ]
    },
    {
      "cell_type": "markdown",
      "metadata": {
        "id": "mDN5WrAVPkq1"
      },
      "source": [
        "#### 67. Considering a four dimensions array, how to get sum over the last two axis at once? (★★★) \n",
        "(**hint**: sum(axis=(-2,-1)))"
      ]
    },
    {
      "cell_type": "code",
      "execution_count": null,
      "metadata": {
        "id": "sWwYMO9cPkq2",
        "colab": {
          "base_uri": "https://localhost:8080/"
        },
        "outputId": "eb7d2d7e-1967-468e-d7db-ab5613a2a2ef"
      },
      "outputs": [
        {
          "output_type": "stream",
          "name": "stdout",
          "text": [
            "[[57 48 59 60]\n",
            " [61 47 44 53]\n",
            " [49 50 40 59]]\n"
          ]
        }
      ],
      "source": [
        "A = np.random.randint(0,10,(3,4,3,4))\n",
        "sum = A.sum(axis=(-2,-1))\n",
        "sum = A.reshape(A.shape[:-2] + (-1,)).sum(axis=-1)\n",
        "print(sum)\n"
      ]
    },
    {
      "cell_type": "markdown",
      "metadata": {
        "id": "YNITDjlPPkq2"
      },
      "source": [
        "#### 68. Considering a one-dimensional vector D, how to compute means of subsets of D using a vector S of same size describing subset  indices? (★★★) \n",
        "(**hint**: np.bincount)"
      ]
    },
    {
      "cell_type": "code",
      "execution_count": null,
      "metadata": {
        "id": "Vb_mExbNPkq3",
        "colab": {
          "base_uri": "https://localhost:8080/"
        },
        "outputId": "4080e780-d9ad-4c25-a31b-3aa4b113a0f0"
      },
      "outputs": [
        {
          "output_type": "stream",
          "name": "stdout",
          "text": [
            "[0.46647204 0.62065416 0.46618717 0.39645507 0.39099274 0.46523027\n",
            " 0.43705624 0.53695345 0.46279531 0.50643148]\n"
          ]
        }
      ],
      "source": [
        "\n",
        "D = np.random.uniform(0,1,100)\n",
        "S = np.random.randint(0,10,100)\n",
        "D_sums = np.bincount(S, weights=D)\n",
        "D_counts = np.bincount(S)\n",
        "D_means = D_sums / D_counts\n",
        "print(D_means)\n",
        "\n"
      ]
    },
    {
      "cell_type": "markdown",
      "metadata": {
        "id": "FXAeZh7-Pkq3"
      },
      "source": [
        "#### 69. How to get the diagonal of a dot product? (★★★) \n",
        "(**hint**: np.diag)"
      ]
    },
    {
      "cell_type": "code",
      "execution_count": null,
      "metadata": {
        "id": "z06NRftjPkq3",
        "colab": {
          "base_uri": "https://localhost:8080/"
        },
        "outputId": "d135c649-e5e8-4120-f6ba-883fbbde9cd6"
      },
      "outputs": [
        {
          "output_type": "execute_result",
          "data": {
            "text/plain": [
              "array([1.46627663, 0.69344026, 1.19151733, 1.78100317, 1.59616342])"
            ]
          },
          "metadata": {},
          "execution_count": 23
        }
      ],
      "source": [
        "A = np.random.uniform(0,1,(5,5))\n",
        "B = np.random.uniform(0,1,(5,5))\n",
        "np.diag(np.dot(A, B))\n"
      ]
    },
    {
      "cell_type": "markdown",
      "metadata": {
        "id": "HsYALUqLPkq3"
      },
      "source": [
        "#### 70. Consider the vector \\[1, 2, 3, 4, 5\\], how to build a new vector with 3 consecutive zeros interleaved between each value? (★★★) \n",
        "(**hint**: array\\[::4\\])"
      ]
    },
    {
      "cell_type": "code",
      "execution_count": null,
      "metadata": {
        "id": "5cupm6InPkq4",
        "colab": {
          "base_uri": "https://localhost:8080/"
        },
        "outputId": "98dc7270-d9dc-4a24-e41c-b1bc74782cb4"
      },
      "outputs": [
        {
          "output_type": "stream",
          "name": "stdout",
          "text": [
            "[1. 0. 0. 0. 2. 0. 0. 0. 3. 0. 0. 0. 4. 0. 0. 0. 5.]\n"
          ]
        }
      ],
      "source": [
        "Z = np.array([1,2,3,4,5])\n",
        "nz = 3\n",
        "Z0 = np.zeros(len(Z) + (len(Z)-1)*(nz))\n",
        "Z0[::nz+1] = Z\n",
        "print(Z0)"
      ]
    },
    {
      "cell_type": "markdown",
      "metadata": {
        "id": "JmtwaPQDPkq4"
      },
      "source": [
        "#### 71. Consider an array of dimension (5,5,3), how to mulitply it by an array with dimensions (5,5)? (★★★) \n",
        "(**hint**: array\\[:, :, None\\])"
      ]
    },
    {
      "cell_type": "code",
      "execution_count": null,
      "metadata": {
        "collapsed": true,
        "id": "alOCzqhjPkq4",
        "colab": {
          "base_uri": "https://localhost:8080/"
        },
        "outputId": "c64d3bf0-3eed-40ef-cf33-854d4ac320db"
      },
      "outputs": [
        {
          "output_type": "stream",
          "name": "stdout",
          "text": [
            "[[[2. 2. 2.]\n",
            "  [2. 2. 2.]\n",
            "  [2. 2. 2.]\n",
            "  [2. 2. 2.]\n",
            "  [2. 2. 2.]]\n",
            "\n",
            " [[2. 2. 2.]\n",
            "  [2. 2. 2.]\n",
            "  [2. 2. 2.]\n",
            "  [2. 2. 2.]\n",
            "  [2. 2. 2.]]\n",
            "\n",
            " [[2. 2. 2.]\n",
            "  [2. 2. 2.]\n",
            "  [2. 2. 2.]\n",
            "  [2. 2. 2.]\n",
            "  [2. 2. 2.]]\n",
            "\n",
            " [[2. 2. 2.]\n",
            "  [2. 2. 2.]\n",
            "  [2. 2. 2.]\n",
            "  [2. 2. 2.]\n",
            "  [2. 2. 2.]]\n",
            "\n",
            " [[2. 2. 2.]\n",
            "  [2. 2. 2.]\n",
            "  [2. 2. 2.]\n",
            "  [2. 2. 2.]\n",
            "  [2. 2. 2.]]]\n"
          ]
        }
      ],
      "source": [
        "import numpy as np\n",
        "A = np.ones((5,5,3))\n",
        "B = 2*np.ones((5,5))\n",
        "print(A * B[:,:,None])"
      ]
    },
    {
      "cell_type": "markdown",
      "metadata": {
        "id": "iFeYTRLJPkq4"
      },
      "source": [
        "#### 72. How to swap two rows of an array? (★★★) \n",
        "(**hint**: array\\[\\[\\]\\] = array\\[\\[\\]\\])"
      ]
    },
    {
      "cell_type": "code",
      "execution_count": null,
      "metadata": {
        "id": "HCOfl3WFPkq5",
        "colab": {
          "base_uri": "https://localhost:8080/"
        },
        "outputId": "9ef5ac4d-d571-4993-a72e-96b213440911"
      },
      "outputs": [
        {
          "output_type": "stream",
          "name": "stdout",
          "text": [
            "[[ 5  6  7  8  9]\n",
            " [ 0  1  2  3  4]\n",
            " [10 11 12 13 14]\n",
            " [15 16 17 18 19]\n",
            " [20 21 22 23 24]]\n"
          ]
        }
      ],
      "source": [
        "A = np.arange(25).reshape(5,5)\n",
        "A[[0,1]] = A[[1,0]]\n",
        "print(A)"
      ]
    },
    {
      "cell_type": "markdown",
      "metadata": {
        "id": "8tHYulKCPkq5"
      },
      "source": [
        "#### 73. Consider a set of 10 triplets describing 10 triangles (with shared vertices), find the set of unique line segments composing all the  triangles (★★★) \n",
        "(**hint**: repeat, np.roll, np.sort, view, np.unique)"
      ]
    },
    {
      "cell_type": "code",
      "execution_count": null,
      "metadata": {
        "id": "pw1M5eArPkq5",
        "colab": {
          "base_uri": "https://localhost:8080/"
        },
        "outputId": "730437b8-5cff-4a13-9957-9f3660c5d1fc"
      },
      "outputs": [
        {
          "output_type": "stream",
          "name": "stdout",
          "text": [
            "[( 5, 80) ( 5, 87) ( 8, 40) ( 8, 80) (16, 25) (16, 93) (18, 42) (18, 92)\n",
            " (20, 46) (20, 47) (25, 93) (30, 34) (30, 53) (34, 53) (40, 80) (42, 92)\n",
            " (46, 47) (47, 66) (47, 76) (66, 76) (72, 73) (72, 86) (73, 86) (74, 94)\n",
            " (74, 99) (78, 82) (78, 99) (80, 87) (82, 99) (94, 99)]\n"
          ]
        }
      ],
      "source": [
        "faces = np.random.randint(0,100,(10,3))\n",
        "F = np.roll(faces.repeat(2,axis=1),-1,axis=1)\n",
        "F = F.reshape(len(F)*3,2)\n",
        "F = np.sort(F,axis=1)\n",
        "G = F.view( dtype=[('p0',F.dtype),('p1',F.dtype)] )\n",
        "G = np.unique(G)\n",
        "print(G)"
      ]
    },
    {
      "cell_type": "markdown",
      "metadata": {
        "id": "jjhMbkxEPkq6"
      },
      "source": [
        "#### 74. Given an array C that is a bincount, how to produce an array A such that np.bincount(A) == C? (★★★) \n",
        "(**hint**: np.repeat)"
      ]
    },
    {
      "cell_type": "code",
      "execution_count": null,
      "metadata": {
        "id": "IQcJnnWPPkq6",
        "colab": {
          "base_uri": "https://localhost:8080/"
        },
        "outputId": "e23f0d9a-01f8-4f14-fcfd-3f83f2c59406"
      },
      "outputs": [
        {
          "output_type": "stream",
          "name": "stdout",
          "text": [
            "[1 1 2 3 4 4 6]\n"
          ]
        }
      ],
      "source": [
        "C = np.bincount([1,1,2,3,4,4,6])\n",
        "A = np.repeat(np.arange(len(C)), C)\n",
        "print(A)"
      ]
    },
    {
      "cell_type": "markdown",
      "metadata": {
        "id": "ay6JZjdPPkq6"
      },
      "source": [
        "#### 75. How to compute averages using a sliding window over an array? (★★★) \n",
        "(**hint**: np.cumsum)"
      ]
    },
    {
      "cell_type": "code",
      "execution_count": null,
      "metadata": {
        "id": "buD_TsNDPkq7",
        "colab": {
          "base_uri": "https://localhost:8080/"
        },
        "outputId": "f5a2ede4-1187-431c-a094-629c4d8a4787"
      },
      "outputs": [
        {
          "output_type": "stream",
          "name": "stdout",
          "text": [
            "[ 1.  2.  3.  4.  5.  6.  7.  8.  9. 10. 11. 12. 13. 14. 15. 16. 17. 18.]\n"
          ]
        }
      ],
      "source": [
        "def moving_average(a, n=3) :\n",
        "    ret = np.cumsum(a, dtype=float)\n",
        "    ret[n:] = ret[n:] - ret[:-n]\n",
        "    return ret[n - 1:] / n\n",
        "Z = np.arange(20)\n",
        "print(moving_average(Z, n=3))"
      ]
    },
    {
      "cell_type": "markdown",
      "metadata": {
        "id": "F18v3au_Pkq7"
      },
      "source": [
        "#### 76. Consider a one-dimensional array Z, build a two-dimensional array whose first row is (Z\\[0\\],Z\\[1\\],Z\\[2\\]) and each subsequent row is  shifted by 1 (last row should be (Z\\[-3\\],Z\\[-2\\],Z\\[-1\\]) (★★★) \n",
        "(**hint**: from numpy.lib import stride_tricks)"
      ]
    },
    {
      "cell_type": "code",
      "execution_count": null,
      "metadata": {
        "id": "DdgdIagIPkq8",
        "colab": {
          "base_uri": "https://localhost:8080/"
        },
        "outputId": "b085a3cc-2137-4723-86fb-983cea309b8d"
      },
      "outputs": [
        {
          "output_type": "stream",
          "name": "stdout",
          "text": [
            "[[0 1 2]\n",
            " [1 2 3]\n",
            " [2 3 4]\n",
            " [3 4 5]\n",
            " [4 5 6]\n",
            " [5 6 7]\n",
            " [6 7 8]\n",
            " [7 8 9]]\n"
          ]
        }
      ],
      "source": [
        "from numpy.lib import stride_tricks\n",
        "\n",
        "def rolling(a, window):\n",
        "    shape = (a.size - window + 1, window)\n",
        "    strides = (a.itemsize, a.itemsize)\n",
        "    return stride_tricks.as_strided(a, shape=shape, strides=strides)\n",
        "Z = rolling(np.arange(10), 3)\n",
        "print(Z)"
      ]
    },
    {
      "cell_type": "markdown",
      "metadata": {
        "id": "PJmZh1QqPkq8"
      },
      "source": [
        "#### 77. How to negate a boolean, or to change the sign of a float inplace? (★★★) \n",
        "(**hint**: np.logical_not, np.negative)"
      ]
    },
    {
      "cell_type": "code",
      "execution_count": null,
      "metadata": {
        "id": "bmj9FmYNPkq8",
        "colab": {
          "base_uri": "https://localhost:8080/"
        },
        "outputId": "8c9eb172-7f8c-4a5f-b60e-505deef70247"
      },
      "outputs": [
        {
          "output_type": "execute_result",
          "data": {
            "text/plain": [
              "array([-0.57413855, -0.03177051, -0.78125881,  0.37603011,  0.6834283 ,\n",
              "        0.02383308, -0.22884321, -0.49152433,  0.86032833, -0.55541525,\n",
              "       -0.02203787, -0.5197895 , -0.25479236,  0.97685428,  0.93705405,\n",
              "       -0.35647978, -0.82415951, -0.31759053,  0.03235008,  0.17276788,\n",
              "        0.26133148, -0.09614958, -0.99844689, -0.57637357, -0.29929248,\n",
              "        0.13150463, -0.75703192,  0.34068302, -0.36706965,  0.40227559,\n",
              "       -0.14710481, -0.61759566,  0.39798355,  0.08902017, -0.88988935,\n",
              "       -0.27657727,  0.83808113,  0.84127553,  0.39385387, -0.37509593,\n",
              "        0.3984446 ,  0.28634349,  0.45235497, -0.40046635, -0.01875616,\n",
              "       -0.84248225, -0.92934056,  0.45147302,  0.17333088,  0.36699223,\n",
              "       -0.85939605,  0.73457459, -0.85999931, -0.68379664, -0.95408369,\n",
              "        0.94910856,  0.92593646,  0.7491785 , -0.30990607,  0.99262937,\n",
              "        0.36787903, -0.39094111, -0.85706356,  0.10660328, -0.67974259,\n",
              "        0.76647763,  0.41417794, -0.45535913,  0.47242493, -0.41677372,\n",
              "       -0.60468296, -0.20654299,  0.93061303,  0.13836903,  0.74611099,\n",
              "       -0.36913007, -0.35761324,  0.38127781,  0.83626386, -0.79614303,\n",
              "       -0.21056547,  0.65434818, -0.20296804,  0.34303519, -0.6668125 ,\n",
              "        0.80198438, -0.33318135, -0.19679454, -0.36870994, -0.29562605,\n",
              "       -0.5010462 ,  0.22658356,  0.66670431, -0.82133056, -0.65552773,\n",
              "       -0.9873167 , -0.28848439, -0.93975633,  0.24693068, -0.46105892])"
            ]
          },
          "metadata": {},
          "execution_count": 8
        }
      ],
      "source": [
        "Z = np.random.randint(0,2,100)\n",
        "np.logical_not(Z, out=Z)\n",
        "\n",
        "Z = np.random.uniform(-1.0,1.0,100)\n",
        "np.negative(Z, out=Z)"
      ]
    },
    {
      "cell_type": "markdown",
      "metadata": {
        "id": "j4N2AVqfPkq9"
      },
      "source": [
        "#### 78. Consider 2 sets of points P0,P1 describing lines (2d) and a point p, how to compute distance from p to each line i  (P0\\[i\\],P1\\[i\\])? (★★★)"
      ]
    },
    {
      "cell_type": "code",
      "execution_count": null,
      "metadata": {
        "id": "KBQQHS2KPkq9",
        "colab": {
          "base_uri": "https://localhost:8080/"
        },
        "outputId": "a055f5e9-637e-458d-a469-790c97068237"
      },
      "outputs": [
        {
          "output_type": "stream",
          "name": "stdout",
          "text": [
            "[ 2.81118927  2.45793956  1.61280701  6.85935449  3.6123287   0.73683857\n",
            "  0.21522824 11.43525799  1.86847301  9.8084525 ]\n"
          ]
        }
      ],
      "source": [
        "def distance(P0, P1, p):\n",
        "    T = P1 - P0\n",
        "    L = (T**2).sum(axis=1)\n",
        "    U = -((P0[:,0]-p[...,0])*T[:,0] + (P0[:,1]-p[...,1])*T[:,1]) / L\n",
        "    U = U.reshape(len(U),1)\n",
        "    D = P0 + U*T - p\n",
        "    return np.sqrt((D**2).sum(axis=1))\n",
        "\n",
        "P0 = np.random.uniform(-10,10,(10,2))\n",
        "P1 = np.random.uniform(-10,10,(10,2))\n",
        "p  = np.random.uniform(-10,10,( 1,2))\n",
        "print(distance(P0, P1, p))"
      ]
    },
    {
      "cell_type": "markdown",
      "metadata": {
        "id": "ohyaSSDtPkq9"
      },
      "source": [
        "#### 79. Consider 2 sets of points P0,P1 describing lines (2d) and a set of points P, how to compute distance from each point j (P\\[j\\]) to each line i (P0\\[i\\],P1\\[i\\])? (★★★)"
      ]
    },
    {
      "cell_type": "code",
      "execution_count": null,
      "metadata": {
        "id": "8S7xDJO_Pkq-",
        "colab": {
          "base_uri": "https://localhost:8080/"
        },
        "outputId": "887bb727-1703-4362-877f-d68d4a998d3f"
      },
      "outputs": [
        {
          "output_type": "stream",
          "name": "stdout",
          "text": [
            "[[8.81480548e+00 1.43456611e+00 4.03657842e+00 4.39169399e+00\n",
            "  6.51691826e+00 3.54214720e+00 8.35959066e+00 2.76186062e+00\n",
            "  6.53934502e+00 2.74182680e+00]\n",
            " [3.07905041e+00 7.41410043e+00 5.77281190e+00 1.22361180e+00\n",
            "  2.29306081e+00 8.04213819e+00 3.06601278e+00 1.18454336e+00\n",
            "  1.15354059e+00 3.19922293e+00]\n",
            " [1.43663808e+01 6.20433841e+00 6.08680053e+00 9.29914735e+00\n",
            "  6.60686007e+00 2.67683082e+00 1.94499983e+01 1.42821186e+01\n",
            "  1.75135995e+01 5.94119803e+00]\n",
            " [9.08790953e+00 1.04145587e-01 8.14871578e-01 4.36109360e+00\n",
            "  4.45969356e+00 5.29923068e+00 1.19818594e+01 7.29926301e+00\n",
            "  1.00499793e+01 1.93430877e+00]\n",
            " [5.03507370e+00 4.13104270e+00 4.91880744e-01 3.36892703e-01\n",
            "  1.04713313e+00 8.85251148e+00 8.88021278e+00 5.33511857e+00\n",
            "  6.86117596e+00 2.49324710e+00]\n",
            " [5.77110040e+00 4.45689851e+00 4.27051593e+00 1.36895466e+00\n",
            "  3.94997683e+00 6.21425110e+00 6.03633408e+00 1.29464765e+00\n",
            "  4.15042328e+00 2.31363706e+00]\n",
            " [1.41608948e+01 4.48852156e+00 8.23182581e-01 9.52584870e+00\n",
            "  9.69842725e+00 7.26738647e-03 1.44208515e+01 7.89502958e+00\n",
            "  1.26477572e+01 7.58662522e-01]\n",
            " [9.57104051e+00 2.57379371e+00 1.25981767e+01 5.68130893e+00\n",
            "  1.12367199e+01 6.85033479e-01 2.84504664e+00 4.73545166e+00\n",
            "  1.25083649e+00 1.12611123e+01]\n",
            " [1.11582296e+01 2.49805152e+00 3.46582769e+00 6.26145475e+00\n",
            "  5.02566865e+00 4.51176165e+00 1.53231738e+01 1.05700015e+01\n",
            "  1.33753319e+01 4.07509797e+00]\n",
            " [9.63578162e+00 1.54445601e+00 5.89421668e+00 4.59044848e+00\n",
            "  2.53627470e+00 6.90057070e+00 1.59599926e+01 1.21577131e+01\n",
            "  1.39173748e+01 6.77360498e+00]]\n"
          ]
        }
      ],
      "source": [
        "P0 = np.random.uniform(-10, 10, (10,2))\n",
        "P1 = np.random.uniform(-10,10,(10,2))\n",
        "p = np.random.uniform(-10, 10, (10,2))\n",
        "print(np.array([distance(P0,P1,p_i) for p_i in p]))"
      ]
    },
    {
      "cell_type": "markdown",
      "metadata": {
        "id": "nWzznHiiPkq-"
      },
      "source": [
        "#### 80. Consider an arbitrary array, write a function that extract a subpart with a fixed shape and centered on a given element (pad with a `fill` value when necessary) (★★★) \n",
        "(**hint**: minimum, maximum)"
      ]
    },
    {
      "cell_type": "code",
      "execution_count": null,
      "metadata": {
        "id": "8isgwBZBPkq_",
        "colab": {
          "base_uri": "https://localhost:8080/"
        },
        "outputId": "556df85f-9fa0-47bb-cad7-d021d498af88"
      },
      "outputs": [
        {
          "output_type": "stream",
          "name": "stdout",
          "text": [
            "[[9 2 9 8 1 1 7 7 3 4]\n",
            " [6 3 6 1 8 5 8 4 7 3]\n",
            " [9 4 8 5 9 1 4 7 4 6]\n",
            " [6 2 1 8 7 1 9 3 4 8]\n",
            " [3 2 0 8 6 8 9 8 6 3]\n",
            " [4 4 3 1 9 5 0 4 2 8]\n",
            " [8 6 2 9 8 5 0 5 4 8]\n",
            " [7 8 3 5 2 4 5 7 6 4]\n",
            " [8 5 4 0 2 6 7 4 3 7]\n",
            " [1 5 7 6 2 6 9 6 7 8]]\n",
            "[[0 0 0 0 0]\n",
            " [0 9 2 9 8]\n",
            " [0 6 3 6 1]\n",
            " [0 9 4 8 5]\n",
            " [0 6 2 1 8]]\n"
          ]
        },
        {
          "output_type": "stream",
          "name": "stderr",
          "text": [
            "/usr/local/lib/python3.7/dist-packages/ipykernel_launcher.py:23: FutureWarning: Using a non-tuple sequence for multidimensional indexing is deprecated; use `arr[tuple(seq)]` instead of `arr[seq]`. In the future this will be interpreted as an array index, `arr[np.array(seq)]`, which will result either in an error or a different result.\n"
          ]
        }
      ],
      "source": [
        "Z = np.random.randint(0,10,(10,10))\n",
        "shape = (5,5)\n",
        "fill  = 0\n",
        "position = (1,1)\n",
        "\n",
        "R = np.ones(shape, dtype=Z.dtype)*fill\n",
        "P  = np.array(list(position)).astype(int)\n",
        "Rs = np.array(list(R.shape)).astype(int)\n",
        "Zs = np.array(list(Z.shape)).astype(int)\n",
        "\n",
        "R_start = np.zeros((len(shape),)).astype(int)\n",
        "R_stop  = np.array(list(shape)).astype(int)\n",
        "Z_start = (P-Rs//2)\n",
        "Z_stop  = (P+Rs//2)+Rs%2\n",
        "\n",
        "R_start = (R_start - np.minimum(Z_start,0)).tolist()\n",
        "Z_start = (np.maximum(Z_start,0)).tolist()\n",
        "R_stop = np.maximum(R_start, (R_stop - np.maximum(Z_stop-Zs,0))).tolist()\n",
        "Z_stop = (np.minimum(Z_stop,Zs)).tolist()\n",
        "\n",
        "r = [slice(start,stop) for start,stop in zip(R_start,R_stop)]\n",
        "z = [slice(start,stop) for start,stop in zip(Z_start,Z_stop)]\n",
        "R[r] = Z[z]\n",
        "print(Z)\n",
        "print(R)"
      ]
    },
    {
      "cell_type": "markdown",
      "metadata": {
        "id": "XxSFERtJPkq_"
      },
      "source": [
        "#### 81. Consider an array Z = \\[1,2,3,4,5,6,7,8,9,10,11,12,13,14\\], how to generate an array R = \\[\\[1,2,3,4\\], \\[2,3,4,5\\], \\[3,4,5,6\\], ..., \\[11,12,13,14\\]\\]? (★★★) \n",
        "(**hint**: stride\\_tricks.as\\_strided)"
      ]
    },
    {
      "cell_type": "code",
      "execution_count": null,
      "metadata": {
        "id": "5rEiWQx8Pkq_",
        "colab": {
          "base_uri": "https://localhost:8080/"
        },
        "outputId": "be60fbe7-1d4e-40ed-d156-1b38e680f2e8"
      },
      "outputs": [
        {
          "output_type": "stream",
          "name": "stdout",
          "text": [
            "[[ 1  2  3  4]\n",
            " [ 2  3  4  5]\n",
            " [ 3  4  5  6]\n",
            " [ 4  5  6  7]\n",
            " [ 5  6  7  8]\n",
            " [ 6  7  8  9]\n",
            " [ 7  8  9 10]\n",
            " [ 8  9 10 11]\n",
            " [ 9 10 11 12]\n",
            " [10 11 12 13]\n",
            " [11 12 13 14]]\n"
          ]
        }
      ],
      "source": [
        "Z = np.arange(1,15,dtype=np.uint32)\n",
        "R = stride_tricks.as_strided(Z,(11,4),(4,4))\n",
        "print(R)"
      ]
    },
    {
      "cell_type": "markdown",
      "metadata": {
        "id": "9fOZFp2uPkq_"
      },
      "source": [
        "#### 82. Compute a matrix rank (★★★) \n",
        "(**hint**: np.linalg.svd) (suggestion: np.linalg.svd)"
      ]
    },
    {
      "cell_type": "code",
      "execution_count": null,
      "metadata": {
        "id": "FNH8vK4APkrA",
        "colab": {
          "base_uri": "https://localhost:8080/"
        },
        "outputId": "9aa94c27-6402-45d8-f4a8-0aa08f7184ff"
      },
      "outputs": [
        {
          "output_type": "stream",
          "name": "stdout",
          "text": [
            "10\n"
          ]
        }
      ],
      "source": [
        "Z = np.random.uniform(0,1,(10,10))\n",
        "U, S, V = np.linalg.svd(Z) \n",
        "rank = np.sum(S > 1e-10)\n",
        "print(rank)"
      ]
    },
    {
      "cell_type": "markdown",
      "metadata": {
        "id": "PND9VX7hPkrA"
      },
      "source": [
        "#### 83. How to find the most frequent value in an array? \n",
        "(**hint**: np.bincount, argmax)"
      ]
    },
    {
      "cell_type": "code",
      "execution_count": null,
      "metadata": {
        "id": "Kmr7emOdPkrA",
        "colab": {
          "base_uri": "https://localhost:8080/"
        },
        "outputId": "1bbc309c-ecaa-4126-f479-b2394135fb80"
      },
      "outputs": [
        {
          "output_type": "stream",
          "name": "stdout",
          "text": [
            "6\n"
          ]
        }
      ],
      "source": [
        "Z = np.random.randint(0,10,50)\n",
        "print(np.bincount(Z).argmax())"
      ]
    },
    {
      "cell_type": "markdown",
      "metadata": {
        "id": "slMtGJ2VPkrA"
      },
      "source": [
        "#### 84. Extract all the contiguous 3x3 blocks from a random 10x10 matrix (★★★) \n",
        "(**hint**: stride\\_tricks.as\\_strided)"
      ]
    },
    {
      "cell_type": "code",
      "execution_count": null,
      "metadata": {
        "id": "bhso4ZEiPkrA",
        "colab": {
          "base_uri": "https://localhost:8080/"
        },
        "outputId": "d109ed33-4554-4715-d627-bb67430df3fa"
      },
      "outputs": [
        {
          "output_type": "stream",
          "name": "stdout",
          "text": [
            "[[[[4 2 4]\n",
            "   [2 0 3]\n",
            "   [0 3 1]]\n",
            "\n",
            "  [[2 4 0]\n",
            "   [0 3 3]\n",
            "   [3 1 4]]\n",
            "\n",
            "  [[4 0 4]\n",
            "   [3 3 3]\n",
            "   [1 4 0]]\n",
            "\n",
            "  [[0 4 1]\n",
            "   [3 3 2]\n",
            "   [4 0 3]]\n",
            "\n",
            "  [[4 1 3]\n",
            "   [3 2 4]\n",
            "   [0 3 3]]\n",
            "\n",
            "  [[1 3 1]\n",
            "   [2 4 0]\n",
            "   [3 3 4]]\n",
            "\n",
            "  [[3 1 3]\n",
            "   [4 0 4]\n",
            "   [3 4 4]]\n",
            "\n",
            "  [[1 3 1]\n",
            "   [0 4 3]\n",
            "   [4 4 3]]]\n",
            "\n",
            "\n",
            " [[[2 0 3]\n",
            "   [0 3 1]\n",
            "   [4 3 1]]\n",
            "\n",
            "  [[0 3 3]\n",
            "   [3 1 4]\n",
            "   [3 1 4]]\n",
            "\n",
            "  [[3 3 3]\n",
            "   [1 4 0]\n",
            "   [1 4 0]]\n",
            "\n",
            "  [[3 3 2]\n",
            "   [4 0 3]\n",
            "   [4 0 0]]\n",
            "\n",
            "  [[3 2 4]\n",
            "   [0 3 3]\n",
            "   [0 0 2]]\n",
            "\n",
            "  [[2 4 0]\n",
            "   [3 3 4]\n",
            "   [0 2 1]]\n",
            "\n",
            "  [[4 0 4]\n",
            "   [3 4 4]\n",
            "   [2 1 2]]\n",
            "\n",
            "  [[0 4 3]\n",
            "   [4 4 3]\n",
            "   [1 2 0]]]\n",
            "\n",
            "\n",
            " [[[0 3 1]\n",
            "   [4 3 1]\n",
            "   [2 0 3]]\n",
            "\n",
            "  [[3 1 4]\n",
            "   [3 1 4]\n",
            "   [0 3 3]]\n",
            "\n",
            "  [[1 4 0]\n",
            "   [1 4 0]\n",
            "   [3 3 1]]\n",
            "\n",
            "  [[4 0 3]\n",
            "   [4 0 0]\n",
            "   [3 1 2]]\n",
            "\n",
            "  [[0 3 3]\n",
            "   [0 0 2]\n",
            "   [1 2 1]]\n",
            "\n",
            "  [[3 3 4]\n",
            "   [0 2 1]\n",
            "   [2 1 3]]\n",
            "\n",
            "  [[3 4 4]\n",
            "   [2 1 2]\n",
            "   [1 3 3]]\n",
            "\n",
            "  [[4 4 3]\n",
            "   [1 2 0]\n",
            "   [3 3 3]]]\n",
            "\n",
            "\n",
            " [[[4 3 1]\n",
            "   [2 0 3]\n",
            "   [2 0 3]]\n",
            "\n",
            "  [[3 1 4]\n",
            "   [0 3 3]\n",
            "   [0 3 0]]\n",
            "\n",
            "  [[1 4 0]\n",
            "   [3 3 1]\n",
            "   [3 0 2]]\n",
            "\n",
            "  [[4 0 0]\n",
            "   [3 1 2]\n",
            "   [0 2 4]]\n",
            "\n",
            "  [[0 0 2]\n",
            "   [1 2 1]\n",
            "   [2 4 4]]\n",
            "\n",
            "  [[0 2 1]\n",
            "   [2 1 3]\n",
            "   [4 4 0]]\n",
            "\n",
            "  [[2 1 2]\n",
            "   [1 3 3]\n",
            "   [4 0 0]]\n",
            "\n",
            "  [[1 2 0]\n",
            "   [3 3 3]\n",
            "   [0 0 2]]]\n",
            "\n",
            "\n",
            " [[[2 0 3]\n",
            "   [2 0 3]\n",
            "   [1 1 2]]\n",
            "\n",
            "  [[0 3 3]\n",
            "   [0 3 0]\n",
            "   [1 2 0]]\n",
            "\n",
            "  [[3 3 1]\n",
            "   [3 0 2]\n",
            "   [2 0 4]]\n",
            "\n",
            "  [[3 1 2]\n",
            "   [0 2 4]\n",
            "   [0 4 2]]\n",
            "\n",
            "  [[1 2 1]\n",
            "   [2 4 4]\n",
            "   [4 2 4]]\n",
            "\n",
            "  [[2 1 3]\n",
            "   [4 4 0]\n",
            "   [2 4 3]]\n",
            "\n",
            "  [[1 3 3]\n",
            "   [4 0 0]\n",
            "   [4 3 2]]\n",
            "\n",
            "  [[3 3 3]\n",
            "   [0 0 2]\n",
            "   [3 2 2]]]\n",
            "\n",
            "\n",
            " [[[2 0 3]\n",
            "   [1 1 2]\n",
            "   [3 1 2]]\n",
            "\n",
            "  [[0 3 0]\n",
            "   [1 2 0]\n",
            "   [1 2 3]]\n",
            "\n",
            "  [[3 0 2]\n",
            "   [2 0 4]\n",
            "   [2 3 3]]\n",
            "\n",
            "  [[0 2 4]\n",
            "   [0 4 2]\n",
            "   [3 3 0]]\n",
            "\n",
            "  [[2 4 4]\n",
            "   [4 2 4]\n",
            "   [3 0 4]]\n",
            "\n",
            "  [[4 4 0]\n",
            "   [2 4 3]\n",
            "   [0 4 3]]\n",
            "\n",
            "  [[4 0 0]\n",
            "   [4 3 2]\n",
            "   [4 3 4]]\n",
            "\n",
            "  [[0 0 2]\n",
            "   [3 2 2]\n",
            "   [3 4 4]]]\n",
            "\n",
            "\n",
            " [[[1 1 2]\n",
            "   [3 1 2]\n",
            "   [0 2 0]]\n",
            "\n",
            "  [[1 2 0]\n",
            "   [1 2 3]\n",
            "   [2 0 1]]\n",
            "\n",
            "  [[2 0 4]\n",
            "   [2 3 3]\n",
            "   [0 1 0]]\n",
            "\n",
            "  [[0 4 2]\n",
            "   [3 3 0]\n",
            "   [1 0 4]]\n",
            "\n",
            "  [[4 2 4]\n",
            "   [3 0 4]\n",
            "   [0 4 4]]\n",
            "\n",
            "  [[2 4 3]\n",
            "   [0 4 3]\n",
            "   [4 4 2]]\n",
            "\n",
            "  [[4 3 2]\n",
            "   [4 3 4]\n",
            "   [4 2 4]]\n",
            "\n",
            "  [[3 2 2]\n",
            "   [3 4 4]\n",
            "   [2 4 2]]]\n",
            "\n",
            "\n",
            " [[[3 1 2]\n",
            "   [0 2 0]\n",
            "   [0 0 2]]\n",
            "\n",
            "  [[1 2 3]\n",
            "   [2 0 1]\n",
            "   [0 2 0]]\n",
            "\n",
            "  [[2 3 3]\n",
            "   [0 1 0]\n",
            "   [2 0 4]]\n",
            "\n",
            "  [[3 3 0]\n",
            "   [1 0 4]\n",
            "   [0 4 1]]\n",
            "\n",
            "  [[3 0 4]\n",
            "   [0 4 4]\n",
            "   [4 1 2]]\n",
            "\n",
            "  [[0 4 3]\n",
            "   [4 4 2]\n",
            "   [1 2 4]]\n",
            "\n",
            "  [[4 3 4]\n",
            "   [4 2 4]\n",
            "   [2 4 2]]\n",
            "\n",
            "  [[3 4 4]\n",
            "   [2 4 2]\n",
            "   [4 2 3]]]]\n"
          ]
        }
      ],
      "source": [
        "Z = np.random.randint(0,5,(10,10))\n",
        "n = 3\n",
        "i = 1 + (Z.shape[0]-3)\n",
        "j = 1 + (Z.shape[1]-3)\n",
        "C = stride_tricks.as_strided(Z, shape=(i, j, n, n), strides=Z.strides + Z.strides)\n",
        "print(C)"
      ]
    },
    {
      "cell_type": "markdown",
      "metadata": {
        "id": "yjkvuELVPkrA"
      },
      "source": [
        "#### 85. Create a 2D array subclass such that Z\\[i,j\\] == Z\\[j,i\\] (★★★) \n",
        "(**hint**: class method)"
      ]
    },
    {
      "cell_type": "code",
      "execution_count": null,
      "metadata": {
        "id": "oJOgHd7MPkrA",
        "colab": {
          "base_uri": "https://localhost:8080/"
        },
        "outputId": "a2015a99-da9a-4bec-b776-2fc41bc5de3b"
      },
      "outputs": [
        {
          "output_type": "stream",
          "name": "stdout",
          "text": [
            "[[ 8  1  6  6 14]\n",
            " [ 1  3 15  4  1]\n",
            " [ 6 15  0 42  5]\n",
            " [ 6  4 42  7 14]\n",
            " [14  1  5 14  4]]\n"
          ]
        }
      ],
      "source": [
        "class Symetric(np.ndarray):\n",
        "    def __setitem__(self, index, value):\n",
        "        i,j = index\n",
        "        super(Symetric, self).__setitem__((i,j), value)\n",
        "        super(Symetric, self).__setitem__((j,i), value)\n",
        "\n",
        "def symetric(Z):\n",
        "    return np.asarray(Z + Z.T - np.diag(Z.diagonal())).view(Symetric)\n",
        "\n",
        "S = symetric(np.random.randint(0,10,(5,5)))\n",
        "S[2,3] = 42\n",
        "print(S)"
      ]
    },
    {
      "cell_type": "markdown",
      "metadata": {
        "id": "J8wY366qPkrA"
      },
      "source": [
        "#### 86. Consider a set of p matrices wich shape (n,n) and a set of p vectors with shape (n,1). How to compute the sum of of the p matrix products at once? (result has shape (n,1)) (★★★) \n",
        "(**hint**: np.tensordot)"
      ]
    },
    {
      "cell_type": "code",
      "execution_count": null,
      "metadata": {
        "id": "5ezEGL2iPkrB",
        "colab": {
          "base_uri": "https://localhost:8080/"
        },
        "outputId": "b262afa8-2abe-462d-f51f-9768028093ca"
      },
      "outputs": [
        {
          "output_type": "stream",
          "name": "stdout",
          "text": [
            "[[200.]\n",
            " [200.]\n",
            " [200.]\n",
            " [200.]\n",
            " [200.]\n",
            " [200.]\n",
            " [200.]\n",
            " [200.]\n",
            " [200.]\n",
            " [200.]\n",
            " [200.]\n",
            " [200.]\n",
            " [200.]\n",
            " [200.]\n",
            " [200.]\n",
            " [200.]\n",
            " [200.]\n",
            " [200.]\n",
            " [200.]\n",
            " [200.]]\n"
          ]
        }
      ],
      "source": [
        "p, n = 10, 20\n",
        "M = np.ones((p,n,n))\n",
        "V = np.ones((p,n,1))\n",
        "S = np.tensordot(M, V, axes=[[0, 2], [0, 1]])\n",
        "print(S)"
      ]
    },
    {
      "cell_type": "markdown",
      "metadata": {
        "id": "LWUQ6kzkPkrB"
      },
      "source": [
        "#### 87. Consider a 16x16 array, how to get the block-sum (block size is 4x4)? (★★★) \n",
        "(**hint**: np.add.reduceat)"
      ]
    },
    {
      "cell_type": "code",
      "execution_count": null,
      "metadata": {
        "id": "7JhqctQOPkrB",
        "colab": {
          "base_uri": "https://localhost:8080/"
        },
        "outputId": "d1894d12-528d-41c8-a535-e0e0f1bf91aa"
      },
      "outputs": [
        {
          "output_type": "stream",
          "name": "stdout",
          "text": [
            "[[16. 16. 16. 16.]\n",
            " [16. 16. 16. 16.]\n",
            " [16. 16. 16. 16.]\n",
            " [16. 16. 16. 16.]]\n"
          ]
        }
      ],
      "source": [
        "Z = np.ones((16,16))\n",
        "k = 4\n",
        "S = np.add.reduceat(np.add.reduceat(Z, np.arange(0, Z.shape[0], k), axis=0),\n",
        "                                       np.arange(0, Z.shape[1], k), axis=1)\n",
        "print(S)"
      ]
    },
    {
      "cell_type": "markdown",
      "metadata": {
        "id": "wXQxY-nEPkrB"
      },
      "source": [
        "#### 88. How to implement the Game of Life using numpy arrays? (★★★)"
      ]
    },
    {
      "cell_type": "code",
      "execution_count": null,
      "metadata": {
        "id": "TlUwD5ztPkrB",
        "colab": {
          "base_uri": "https://localhost:8080/"
        },
        "outputId": "63ffd25c-2544-4d9a-c4f1-96200bfad2b5"
      },
      "outputs": [
        {
          "output_type": "stream",
          "name": "stdout",
          "text": [
            "[[0 0 0 ... 0 0 0]\n",
            " [0 0 0 ... 0 0 0]\n",
            " [0 0 0 ... 0 0 0]\n",
            " ...\n",
            " [0 0 0 ... 0 0 0]\n",
            " [0 0 0 ... 0 0 0]\n",
            " [0 0 0 ... 0 0 0]]\n"
          ]
        }
      ],
      "source": [
        "def iterate(Z):\n",
        "    \n",
        "    N = (Z[0:-2,0:-2] + Z[0:-2,1:-1] + Z[0:-2,2:] +\n",
        "         Z[1:-1,0:-2]                + Z[1:-1,2:] +\n",
        "         Z[2:  ,0:-2] + Z[2:  ,1:-1] + Z[2:  ,2:])\n",
        "\n",
        "    \n",
        "    birth = (N==3) & (Z[1:-1,1:-1]==0)\n",
        "    survive = ((N==2) | (N==3)) & (Z[1:-1,1:-1]==1)\n",
        "    Z[...] = 0\n",
        "    Z[1:-1,1:-1][birth | survive] = 1\n",
        "    return Z\n",
        "\n",
        "Z = np.random.randint(0,2,(50,50))\n",
        "for i in range(100): Z = iterate(Z)\n",
        "print(Z)"
      ]
    },
    {
      "cell_type": "markdown",
      "metadata": {
        "id": "czTFT_q3PkrB"
      },
      "source": [
        "#### 89. How to get the n largest values of an array (★★★) \n",
        "(**hint**: np.argsort | np.argpartition)"
      ]
    },
    {
      "cell_type": "code",
      "execution_count": null,
      "metadata": {
        "id": "XSc_0MssPkrB",
        "colab": {
          "base_uri": "https://localhost:8080/"
        },
        "outputId": "573cf25a-d7ca-4c59-b973-417f5905f950"
      },
      "outputs": [
        {
          "output_type": "stream",
          "name": "stdout",
          "text": [
            "[9995 9996 9997 9998 9999]\n"
          ]
        }
      ],
      "source": [
        "Z = np.arange(10000)\n",
        "np.random.shuffle(Z)\n",
        "n = 5\n",
        "print (Z[np.argsort(Z)[-n:]])\n",
        "\n"
      ]
    },
    {
      "cell_type": "markdown",
      "metadata": {
        "id": "JVDitlrVPkrB"
      },
      "source": [
        "#### 90. Given an arbitrary number of vectors, build the cartesian product (every combinations of every item) (★★★) \n",
        "(**hint**: np.indices)"
      ]
    },
    {
      "cell_type": "code",
      "execution_count": null,
      "metadata": {
        "scrolled": true,
        "id": "3Vv4fTKuPkrC",
        "colab": {
          "base_uri": "https://localhost:8080/"
        },
        "outputId": "bc3f764b-0f29-40d2-9747-8569c119f90c"
      },
      "outputs": [
        {
          "output_type": "stream",
          "name": "stdout",
          "text": [
            "[[1 4 6]\n",
            " [1 4 7]\n",
            " [1 5 6]\n",
            " [1 5 7]\n",
            " [2 4 6]\n",
            " [2 4 7]\n",
            " [2 5 6]\n",
            " [2 5 7]\n",
            " [3 4 6]\n",
            " [3 4 7]\n",
            " [3 5 6]\n",
            " [3 5 7]]\n"
          ]
        }
      ],
      "source": [
        "def cartesian(arrays):\n",
        "    arrays = [np.asarray(a) for a in arrays]\n",
        "    shape = (len(x) for x in arrays)\n",
        "\n",
        "    ix = np.indices(shape, dtype=int)\n",
        "    ix = ix.reshape(len(arrays), -1).T\n",
        "\n",
        "    for n, arr in enumerate(arrays):\n",
        "        ix[:, n] = arrays[n][ix[:, n]]\n",
        "\n",
        "    return ix\n",
        "\n",
        "print (cartesian(([1, 2, 3], [4, 5], [6, 7])))"
      ]
    },
    {
      "cell_type": "markdown",
      "metadata": {
        "id": "vahswwmCPkrC"
      },
      "source": [
        "#### 91. How to create a record array from a regular array? (★★★) \n",
        "(**hint**: np.core.records.fromarrays)"
      ]
    },
    {
      "cell_type": "code",
      "execution_count": null,
      "metadata": {
        "id": "1gAnp3b4PkrC",
        "colab": {
          "base_uri": "https://localhost:8080/"
        },
        "outputId": "79c2e048-ef94-4c1b-b35b-fe65e2e78b09"
      },
      "outputs": [
        {
          "output_type": "stream",
          "name": "stdout",
          "text": [
            "[(b'Hello', 2.5, 3) (b'World', 3.6, 2)]\n"
          ]
        }
      ],
      "source": [
        "Z = np.array([(\"Hello\", 2.5, 3),\n",
        "              (\"World\", 3.6, 2)])\n",
        "R = np.core.records.fromarrays(Z.T, \n",
        "                               names='col1, col2, col3',\n",
        "                               formats = 'S8, f8, i8')\n",
        "print(R)"
      ]
    },
    {
      "cell_type": "markdown",
      "metadata": {
        "id": "_0LOyhnTPkrC"
      },
      "source": [
        "#### 92. Consider a large vector Z, compute Z to the power of 3 using 3 different methods (★★★) \n",
        "(**hint**: np.power, \\*, np.einsum)"
      ]
    },
    {
      "cell_type": "code",
      "execution_count": null,
      "metadata": {
        "id": "r-HedPXfPkrC",
        "colab": {
          "base_uri": "https://localhost:8080/",
          "height": 506
        },
        "outputId": "abf29b42-2be9-424c-9249-263ac9cae10c"
      },
      "outputs": [
        {
          "output_type": "stream",
          "name": "stdout",
          "text": [
            "1.96 µs ± 534 ns per loop (mean ± std. dev. of 7 runs, 100000 loops each)\n",
            "123 ns ± 0.697 ns per loop (mean ± std. dev. of 7 runs, 10000000 loops each)\n"
          ]
        },
        {
          "output_type": "error",
          "ename": "ValueError",
          "evalue": "ignored",
          "traceback": [
            "\u001b[0;31m---------------------------------------------------------------------------\u001b[0m",
            "\u001b[0;31mValueError\u001b[0m                                Traceback (most recent call last)",
            "\u001b[0;32m<ipython-input-28-f3b9d41b3de5>\u001b[0m in \u001b[0;36m<module>\u001b[0;34m\u001b[0m\n\u001b[1;32m      2\u001b[0m \u001b[0mget_ipython\u001b[0m\u001b[0;34m(\u001b[0m\u001b[0;34m)\u001b[0m\u001b[0;34m.\u001b[0m\u001b[0mrun_line_magic\u001b[0m\u001b[0;34m(\u001b[0m\u001b[0;34m'timeit'\u001b[0m\u001b[0;34m,\u001b[0m \u001b[0;34m'np.power(x,3)'\u001b[0m\u001b[0;34m)\u001b[0m\u001b[0;34m\u001b[0m\u001b[0;34m\u001b[0m\u001b[0m\n\u001b[1;32m      3\u001b[0m \u001b[0mget_ipython\u001b[0m\u001b[0;34m(\u001b[0m\u001b[0;34m)\u001b[0m\u001b[0;34m.\u001b[0m\u001b[0mrun_line_magic\u001b[0m\u001b[0;34m(\u001b[0m\u001b[0;34m'timeit'\u001b[0m\u001b[0;34m,\u001b[0m \u001b[0;34m'x*x*x'\u001b[0m\u001b[0;34m)\u001b[0m\u001b[0;34m\u001b[0m\u001b[0;34m\u001b[0m\u001b[0m\n\u001b[0;32m----> 4\u001b[0;31m \u001b[0mget_ipython\u001b[0m\u001b[0;34m(\u001b[0m\u001b[0;34m)\u001b[0m\u001b[0;34m.\u001b[0m\u001b[0mrun_line_magic\u001b[0m\u001b[0;34m(\u001b[0m\u001b[0;34m'timeit'\u001b[0m\u001b[0;34m,\u001b[0m \u001b[0;34m\"np.einsum('i,i,i->i',x,x,x)\"\u001b[0m\u001b[0;34m)\u001b[0m\u001b[0;34m\u001b[0m\u001b[0;34m\u001b[0m\u001b[0m\n\u001b[0m",
            "\u001b[0;32m/usr/local/lib/python3.7/dist-packages/IPython/core/interactiveshell.py\u001b[0m in \u001b[0;36mrun_line_magic\u001b[0;34m(self, magic_name, line, _stack_depth)\u001b[0m\n\u001b[1;32m   2312\u001b[0m                 \u001b[0mkwargs\u001b[0m\u001b[0;34m[\u001b[0m\u001b[0;34m'local_ns'\u001b[0m\u001b[0;34m]\u001b[0m \u001b[0;34m=\u001b[0m \u001b[0msys\u001b[0m\u001b[0;34m.\u001b[0m\u001b[0m_getframe\u001b[0m\u001b[0;34m(\u001b[0m\u001b[0mstack_depth\u001b[0m\u001b[0;34m)\u001b[0m\u001b[0;34m.\u001b[0m\u001b[0mf_locals\u001b[0m\u001b[0;34m\u001b[0m\u001b[0;34m\u001b[0m\u001b[0m\n\u001b[1;32m   2313\u001b[0m             \u001b[0;32mwith\u001b[0m \u001b[0mself\u001b[0m\u001b[0;34m.\u001b[0m\u001b[0mbuiltin_trap\u001b[0m\u001b[0;34m:\u001b[0m\u001b[0;34m\u001b[0m\u001b[0;34m\u001b[0m\u001b[0m\n\u001b[0;32m-> 2314\u001b[0;31m                 \u001b[0mresult\u001b[0m \u001b[0;34m=\u001b[0m \u001b[0mfn\u001b[0m\u001b[0;34m(\u001b[0m\u001b[0;34m*\u001b[0m\u001b[0margs\u001b[0m\u001b[0;34m,\u001b[0m \u001b[0;34m**\u001b[0m\u001b[0mkwargs\u001b[0m\u001b[0;34m)\u001b[0m\u001b[0;34m\u001b[0m\u001b[0;34m\u001b[0m\u001b[0m\n\u001b[0m\u001b[1;32m   2315\u001b[0m             \u001b[0;32mreturn\u001b[0m \u001b[0mresult\u001b[0m\u001b[0;34m\u001b[0m\u001b[0;34m\u001b[0m\u001b[0m\n\u001b[1;32m   2316\u001b[0m \u001b[0;34m\u001b[0m\u001b[0m\n",
            "\u001b[0;32m<decorator-gen-53>\u001b[0m in \u001b[0;36mtimeit\u001b[0;34m(self, line, cell, local_ns)\u001b[0m\n",
            "\u001b[0;32m/usr/local/lib/python3.7/dist-packages/IPython/core/magic.py\u001b[0m in \u001b[0;36m<lambda>\u001b[0;34m(f, *a, **k)\u001b[0m\n\u001b[1;32m    185\u001b[0m     \u001b[0;31m# but it's overkill for just that one bit of state.\u001b[0m\u001b[0;34m\u001b[0m\u001b[0;34m\u001b[0m\u001b[0;34m\u001b[0m\u001b[0m\n\u001b[1;32m    186\u001b[0m     \u001b[0;32mdef\u001b[0m \u001b[0mmagic_deco\u001b[0m\u001b[0;34m(\u001b[0m\u001b[0marg\u001b[0m\u001b[0;34m)\u001b[0m\u001b[0;34m:\u001b[0m\u001b[0;34m\u001b[0m\u001b[0;34m\u001b[0m\u001b[0m\n\u001b[0;32m--> 187\u001b[0;31m         \u001b[0mcall\u001b[0m \u001b[0;34m=\u001b[0m \u001b[0;32mlambda\u001b[0m \u001b[0mf\u001b[0m\u001b[0;34m,\u001b[0m \u001b[0;34m*\u001b[0m\u001b[0ma\u001b[0m\u001b[0;34m,\u001b[0m \u001b[0;34m**\u001b[0m\u001b[0mk\u001b[0m\u001b[0;34m:\u001b[0m \u001b[0mf\u001b[0m\u001b[0;34m(\u001b[0m\u001b[0;34m*\u001b[0m\u001b[0ma\u001b[0m\u001b[0;34m,\u001b[0m \u001b[0;34m**\u001b[0m\u001b[0mk\u001b[0m\u001b[0;34m)\u001b[0m\u001b[0;34m\u001b[0m\u001b[0;34m\u001b[0m\u001b[0m\n\u001b[0m\u001b[1;32m    188\u001b[0m \u001b[0;34m\u001b[0m\u001b[0m\n\u001b[1;32m    189\u001b[0m         \u001b[0;32mif\u001b[0m \u001b[0mcallable\u001b[0m\u001b[0;34m(\u001b[0m\u001b[0marg\u001b[0m\u001b[0;34m)\u001b[0m\u001b[0;34m:\u001b[0m\u001b[0;34m\u001b[0m\u001b[0;34m\u001b[0m\u001b[0m\n",
            "\u001b[0;32m/usr/local/lib/python3.7/dist-packages/IPython/core/magics/execution.py\u001b[0m in \u001b[0;36mtimeit\u001b[0;34m(self, line, cell, local_ns)\u001b[0m\n\u001b[1;32m   1156\u001b[0m             \u001b[0;32mfor\u001b[0m \u001b[0mindex\u001b[0m \u001b[0;32min\u001b[0m \u001b[0mrange\u001b[0m\u001b[0;34m(\u001b[0m\u001b[0;36m0\u001b[0m\u001b[0;34m,\u001b[0m \u001b[0;36m10\u001b[0m\u001b[0;34m)\u001b[0m\u001b[0;34m:\u001b[0m\u001b[0;34m\u001b[0m\u001b[0;34m\u001b[0m\u001b[0m\n\u001b[1;32m   1157\u001b[0m                 \u001b[0mnumber\u001b[0m \u001b[0;34m=\u001b[0m \u001b[0;36m10\u001b[0m \u001b[0;34m**\u001b[0m \u001b[0mindex\u001b[0m\u001b[0;34m\u001b[0m\u001b[0;34m\u001b[0m\u001b[0m\n\u001b[0;32m-> 1158\u001b[0;31m                 \u001b[0mtime_number\u001b[0m \u001b[0;34m=\u001b[0m \u001b[0mtimer\u001b[0m\u001b[0;34m.\u001b[0m\u001b[0mtimeit\u001b[0m\u001b[0;34m(\u001b[0m\u001b[0mnumber\u001b[0m\u001b[0;34m)\u001b[0m\u001b[0;34m\u001b[0m\u001b[0;34m\u001b[0m\u001b[0m\n\u001b[0m\u001b[1;32m   1159\u001b[0m                 \u001b[0;32mif\u001b[0m \u001b[0mtime_number\u001b[0m \u001b[0;34m>=\u001b[0m \u001b[0;36m0.2\u001b[0m\u001b[0;34m:\u001b[0m\u001b[0;34m\u001b[0m\u001b[0;34m\u001b[0m\u001b[0m\n\u001b[1;32m   1160\u001b[0m                     \u001b[0;32mbreak\u001b[0m\u001b[0;34m\u001b[0m\u001b[0;34m\u001b[0m\u001b[0m\n",
            "\u001b[0;32m/usr/local/lib/python3.7/dist-packages/IPython/core/magics/execution.py\u001b[0m in \u001b[0;36mtimeit\u001b[0;34m(self, number)\u001b[0m\n\u001b[1;32m    167\u001b[0m         \u001b[0mgc\u001b[0m\u001b[0;34m.\u001b[0m\u001b[0mdisable\u001b[0m\u001b[0;34m(\u001b[0m\u001b[0;34m)\u001b[0m\u001b[0;34m\u001b[0m\u001b[0;34m\u001b[0m\u001b[0m\n\u001b[1;32m    168\u001b[0m         \u001b[0;32mtry\u001b[0m\u001b[0;34m:\u001b[0m\u001b[0;34m\u001b[0m\u001b[0;34m\u001b[0m\u001b[0m\n\u001b[0;32m--> 169\u001b[0;31m             \u001b[0mtiming\u001b[0m \u001b[0;34m=\u001b[0m \u001b[0mself\u001b[0m\u001b[0;34m.\u001b[0m\u001b[0minner\u001b[0m\u001b[0;34m(\u001b[0m\u001b[0mit\u001b[0m\u001b[0;34m,\u001b[0m \u001b[0mself\u001b[0m\u001b[0;34m.\u001b[0m\u001b[0mtimer\u001b[0m\u001b[0;34m)\u001b[0m\u001b[0;34m\u001b[0m\u001b[0;34m\u001b[0m\u001b[0m\n\u001b[0m\u001b[1;32m    170\u001b[0m         \u001b[0;32mfinally\u001b[0m\u001b[0;34m:\u001b[0m\u001b[0;34m\u001b[0m\u001b[0;34m\u001b[0m\u001b[0m\n\u001b[1;32m    171\u001b[0m             \u001b[0;32mif\u001b[0m \u001b[0mgcold\u001b[0m\u001b[0;34m:\u001b[0m\u001b[0;34m\u001b[0m\u001b[0;34m\u001b[0m\u001b[0m\n",
            "\u001b[0;32m<magic-timeit>\u001b[0m in \u001b[0;36minner\u001b[0;34m(_it, _timer)\u001b[0m\n",
            "\u001b[0;32m<__array_function__ internals>\u001b[0m in \u001b[0;36meinsum\u001b[0;34m(*args, **kwargs)\u001b[0m\n",
            "\u001b[0;32m/usr/local/lib/python3.7/dist-packages/numpy/core/einsumfunc.py\u001b[0m in \u001b[0;36meinsum\u001b[0;34m(out, optimize, *operands, **kwargs)\u001b[0m\n\u001b[1;32m   1357\u001b[0m         \u001b[0;32mif\u001b[0m \u001b[0mspecified_out\u001b[0m\u001b[0;34m:\u001b[0m\u001b[0;34m\u001b[0m\u001b[0;34m\u001b[0m\u001b[0m\n\u001b[1;32m   1358\u001b[0m             \u001b[0mkwargs\u001b[0m\u001b[0;34m[\u001b[0m\u001b[0;34m'out'\u001b[0m\u001b[0;34m]\u001b[0m \u001b[0;34m=\u001b[0m \u001b[0mout\u001b[0m\u001b[0;34m\u001b[0m\u001b[0;34m\u001b[0m\u001b[0m\n\u001b[0;32m-> 1359\u001b[0;31m         \u001b[0;32mreturn\u001b[0m \u001b[0mc_einsum\u001b[0m\u001b[0;34m(\u001b[0m\u001b[0;34m*\u001b[0m\u001b[0moperands\u001b[0m\u001b[0;34m,\u001b[0m \u001b[0;34m**\u001b[0m\u001b[0mkwargs\u001b[0m\u001b[0;34m)\u001b[0m\u001b[0;34m\u001b[0m\u001b[0;34m\u001b[0m\u001b[0m\n\u001b[0m\u001b[1;32m   1360\u001b[0m \u001b[0;34m\u001b[0m\u001b[0m\n\u001b[1;32m   1361\u001b[0m     \u001b[0;31m# Check the kwargs to avoid a more cryptic error later, without having to\u001b[0m\u001b[0;34m\u001b[0m\u001b[0;34m\u001b[0m\u001b[0;34m\u001b[0m\u001b[0m\n",
            "\u001b[0;31mValueError\u001b[0m: einstein sum subscripts string contains too many subscripts for operand 0"
          ]
        }
      ],
      "source": [
        "x = np.random.randint(5e7)\n",
        "%timeit np.power(x,3)\n",
        "%timeit x*x*x\n",
        "%timeit np.einsum('i,i,i->i',x,x,x)\n"
      ]
    },
    {
      "cell_type": "markdown",
      "metadata": {
        "id": "CtW4MNp_PkrC"
      },
      "source": [
        "#### 93. Consider two arrays A and B of shape (8,3) and (2,2). How to find rows of A that contain elements of each row of B regardless of the order of the elements in B? (★★★) \n",
        "(**hint**: np.where)"
      ]
    },
    {
      "cell_type": "code",
      "execution_count": null,
      "metadata": {
        "id": "NMvjfTitPkrC",
        "colab": {
          "base_uri": "https://localhost:8080/"
        },
        "outputId": "ae175bbd-e26f-4615-fe6c-37bfb250a798"
      },
      "outputs": [
        {
          "output_type": "stream",
          "name": "stdout",
          "text": [
            "[2 5 6]\n"
          ]
        }
      ],
      "source": [
        "A = np.random.randint(0,5,(8,3))\n",
        "B = np.random.randint(0,5,(2,2))\n",
        "\n",
        "C = (A[..., np.newaxis, np.newaxis] == B)\n",
        "rows = np.where(C.any((3,1)).all(1))[0]\n",
        "print(rows)"
      ]
    },
    {
      "cell_type": "markdown",
      "metadata": {
        "id": "8UdRsznQPkrC"
      },
      "source": [
        "#### 94. Considering a 10x3 matrix, extract rows with unequal values (e.g. \\[2,2,3\\]) (★★★)"
      ]
    },
    {
      "cell_type": "code",
      "execution_count": null,
      "metadata": {
        "id": "Xhg4cL9lPkrD",
        "colab": {
          "base_uri": "https://localhost:8080/"
        },
        "outputId": "da8e9ffa-1068-42ef-ee23-8ce3cfd299a0"
      },
      "outputs": [
        {
          "output_type": "stream",
          "name": "stdout",
          "text": [
            "[[1 2 3]\n",
            " [3 4 4]\n",
            " [0 0 3]\n",
            " [0 4 4]\n",
            " [2 1 4]\n",
            " [2 1 4]\n",
            " [0 2 2]\n",
            " [4 3 4]\n",
            " [2 2 1]\n",
            " [2 0 3]]\n",
            "[[1 2 3]\n",
            " [3 4 4]\n",
            " [0 0 3]\n",
            " [0 4 4]\n",
            " [2 1 4]\n",
            " [2 1 4]\n",
            " [0 2 2]\n",
            " [4 3 4]\n",
            " [2 2 1]\n",
            " [2 0 3]]\n",
            "[[1 2 3]\n",
            " [3 4 4]\n",
            " [0 0 3]\n",
            " [0 4 4]\n",
            " [2 1 4]\n",
            " [2 1 4]\n",
            " [0 2 2]\n",
            " [4 3 4]\n",
            " [2 2 1]\n",
            " [2 0 3]]\n"
          ]
        }
      ],
      "source": [
        "Z = np.random.randint(0,5,(10,3))\n",
        "print(Z)\n",
        "E = np.all(Z[:,1:] == Z[:,:-1], axis=1)\n",
        "U = Z[~E]\n",
        "print(U)\n",
        "U = Z[Z.max(axis=1) != Z.min(axis=1),:]\n",
        "print(U)"
      ]
    },
    {
      "cell_type": "markdown",
      "metadata": {
        "id": "8l_flQhrPkrD"
      },
      "source": [
        "#### 95. Convert a vector of ints into a matrix binary representation (★★★) \n",
        "(**hint**: np.unpackbits)"
      ]
    },
    {
      "cell_type": "code",
      "execution_count": null,
      "metadata": {
        "id": "_xDPothRPkrD",
        "colab": {
          "base_uri": "https://localhost:8080/"
        },
        "outputId": "901fb90c-fbde-4805-e091-282ffd9b81a9"
      },
      "outputs": [
        {
          "output_type": "stream",
          "name": "stdout",
          "text": [
            "[[0 0 0 0 0 0 0 0]\n",
            " [0 0 0 0 0 0 0 1]\n",
            " [0 0 0 0 0 0 1 0]\n",
            " [0 0 0 0 0 0 1 1]\n",
            " [0 0 0 0 1 1 1 1]\n",
            " [0 0 0 1 0 0 0 0]\n",
            " [0 0 1 0 0 0 0 0]\n",
            " [0 1 0 0 0 0 0 0]\n",
            " [1 0 0 0 0 0 0 0]]\n",
            "[[0 0 0 0 0 0 0 0]\n",
            " [0 0 0 0 0 0 0 1]\n",
            " [0 0 0 0 0 0 1 0]\n",
            " [0 0 0 0 0 0 1 1]\n",
            " [0 0 0 0 1 1 1 1]\n",
            " [0 0 0 1 0 0 0 0]\n",
            " [0 0 1 0 0 0 0 0]\n",
            " [0 1 0 0 0 0 0 0]\n",
            " [1 0 0 0 0 0 0 0]]\n"
          ]
        }
      ],
      "source": [
        "I = np.array([0, 1, 2, 3, 15, 16, 32, 64, 128])\n",
        "B = ((I.reshape(-1,1) & (2**np.arange(8))) != 0).astype(int)\n",
        "print(B[:,::-1])\n",
        "I = np.array([0, 1, 2, 3, 15, 16, 32, 64, 128], dtype=np.uint8)\n",
        "print(np.unpackbits(I[:, np.newaxis], axis=1))"
      ]
    },
    {
      "cell_type": "markdown",
      "metadata": {
        "id": "qtJcZx4bPkrD"
      },
      "source": [
        "#### 96. Given a two dimensional array, how to extract unique rows? (★★★) \n",
        "(**hint**: np.ascontiguousarray)"
      ]
    },
    {
      "cell_type": "code",
      "execution_count": null,
      "metadata": {
        "id": "2qrwiogbPkrD",
        "colab": {
          "base_uri": "https://localhost:8080/"
        },
        "outputId": "6db3c01a-ed44-4798-8566-ae163eccd9b1"
      },
      "outputs": [
        {
          "output_type": "stream",
          "name": "stdout",
          "text": [
            "[[0 0 0]\n",
            " [0 1 0]\n",
            " [0 1 1]\n",
            " [1 0 1]]\n"
          ]
        }
      ],
      "source": [
        "Z = np.random.randint(0,2,(6,3))\n",
        "T = np.ascontiguousarray(Z).view(np.dtype((np.void, Z.dtype.itemsize * Z.shape[1])))\n",
        "_, idx = np.unique(T, return_index=True)\n",
        "uZ = Z[idx]\n",
        "print(uZ)"
      ]
    },
    {
      "cell_type": "markdown",
      "metadata": {
        "id": "fi7WxaWXPkrD"
      },
      "source": [
        "#### 97. Considering 2 vectors A & B, write the einsum equivalent of inner, outer, sum, and mul function (★★★) \n",
        "(**hint**: np.einsum)"
      ]
    },
    {
      "cell_type": "code",
      "execution_count": null,
      "metadata": {
        "id": "8bobUfvRPkrE",
        "colab": {
          "base_uri": "https://localhost:8080/"
        },
        "outputId": "ef2e4937-42ea-4a35-af1c-0978fe70a30d"
      },
      "outputs": [
        {
          "output_type": "execute_result",
          "data": {
            "text/plain": [
              "array([[0.02129082, 0.11265241, 0.03436976, 0.09428108, 0.10478524,\n",
              "        0.11806081, 0.05819093, 0.11647553, 0.0451781 , 0.11967047],\n",
              "       [0.01971098, 0.10429327, 0.03181942, 0.08728515, 0.09700987,\n",
              "        0.10930036, 0.05387299, 0.10783271, 0.04182576, 0.11079057],\n",
              "       [0.0303715 , 0.16069947, 0.04902871, 0.13449264, 0.1494769 ,\n",
              "        0.16841459, 0.08300978, 0.16615318, 0.06444689, 0.17071078],\n",
              "       [0.08444673, 0.44681836, 0.13632234, 0.37395134, 0.41561446,\n",
              "        0.46826995, 0.23080533, 0.46198217, 0.17919196, 0.4746544 ],\n",
              "       [0.13615087, 0.72039155, 0.21978833, 0.60291028, 0.67008245,\n",
              "        0.75497728, 0.37212036, 0.74483969, 0.28890571, 0.76527074],\n",
              "       [0.00900274, 0.04763464, 0.01453312, 0.03986639, 0.04430804,\n",
              "        0.04992156, 0.02460581, 0.04925123, 0.01910339, 0.0506022 ],\n",
              "       [0.0532119 , 0.2815509 , 0.08589995, 0.23563565, 0.26188857,\n",
              "        0.29506805, 0.14543594, 0.29110597, 0.11291312, 0.29909105],\n",
              "       [0.08639255, 0.45711394, 0.13946347, 0.38256792, 0.42519104,\n",
              "        0.47905982, 0.23612354, 0.47262716, 0.1833209 , 0.48559138],\n",
              "       [0.0441837 , 0.23378155, 0.07132573, 0.19565652, 0.21745524,\n",
              "        0.24500532, 0.12076054, 0.24171547, 0.09375571, 0.24834575],\n",
              "       [0.01477332, 0.07816749, 0.02384856, 0.06541995, 0.0727086 ,\n",
              "        0.08192028, 0.04037764, 0.08082028, 0.03134828, 0.08303719]])"
            ]
          },
          "metadata": {},
          "execution_count": 33
        }
      ],
      "source": [
        "A = np.random.uniform(0,1,10)\n",
        "B = np.random.uniform(0,1,10)\n",
        "\n",
        "np.einsum('i->', A)      \n",
        "np.einsum('i,i->i', A, B) \n",
        "np.einsum('i,i', A, B)    \n",
        "np.einsum('i,j->ij', A, B)   "
      ]
    },
    {
      "cell_type": "markdown",
      "metadata": {
        "id": "bR818iD9PkrH"
      },
      "source": [
        "#### 98. Considering a path described by two vectors (X,Y), how to sample it using equidistant samples (★★★)? \n",
        "(**hint**: np.cumsum, np.interp)"
      ]
    },
    {
      "cell_type": "code",
      "execution_count": null,
      "metadata": {
        "collapsed": true,
        "id": "ciKh_PEYPkrH"
      },
      "outputs": [],
      "source": [
        "phi = np.arange(0, 10*np.pi, 0.1)\n",
        "a = 1\n",
        "x = a*phi*np.cos(phi)\n",
        "y = a*phi*np.sin(phi)\n",
        "\n",
        "dr = (np.diff(x)**2 + np.diff(y)**2)**.5 \n",
        "r = np.zeros_like(x)\n",
        "r[1:] = np.cumsum(dr)                \n",
        "r_int = np.linspace(0, r.max(), 200) \n",
        "x_int = np.interp(r_int, r, x)       \n",
        "y_int = np.interp(r_int, r, y)\n"
      ]
    },
    {
      "cell_type": "markdown",
      "metadata": {
        "id": "HpyOSzcPPkrH"
      },
      "source": [
        "#### 99. Given an integer n and a 2D array X, select from X the rows which can be interpreted as draws from a multinomial distribution with n degrees, i.e., the rows which only contain integers and which sum to n. (★★★) \n",
        "(**hint**: np.logical\\_and.reduce, np.mod)"
      ]
    },
    {
      "cell_type": "code",
      "execution_count": null,
      "metadata": {
        "id": "1dlT1yDmPkrH",
        "colab": {
          "base_uri": "https://localhost:8080/"
        },
        "outputId": "ea27eed0-5c0e-4657-9319-c0b243336038"
      },
      "outputs": [
        {
          "output_type": "stream",
          "name": "stdout",
          "text": [
            "[[2. 0. 1. 1.]]\n"
          ]
        }
      ],
      "source": [
        "X = np.asarray([[1.0, 0.0, 3.0, 8.0],\n",
        "                [2.0, 0.0, 1.0, 1.0],\n",
        "                [1.5, 2.5, 1.0, 0.0]])\n",
        "n = 4\n",
        "M = np.logical_and.reduce(np.mod(X, 1) == 0, axis=-1)\n",
        "M &= (X.sum(axis=-1) == n)\n",
        "print(X[M])"
      ]
    },
    {
      "cell_type": "markdown",
      "metadata": {
        "id": "FvqDHCJQPkrH"
      },
      "source": [
        "#### 100. Compute bootstrapped 95% confidence intervals for the mean of a 1D array X (i.e., resample the elements of an array with replacement N times, compute the mean of each sample, and then compute percentiles over the means). (★★★) \n",
        "(**hint**: np.percentile)"
      ]
    },
    {
      "cell_type": "code",
      "execution_count": null,
      "metadata": {
        "id": "dlomZPXPPkrI",
        "colab": {
          "base_uri": "https://localhost:8080/"
        },
        "outputId": "48fbc542-1ad4-4cc3-94b3-3feaa9587985"
      },
      "outputs": [
        {
          "output_type": "stream",
          "name": "stdout",
          "text": [
            "[-0.21500259  0.2062434 ]\n"
          ]
        }
      ],
      "source": [
        "X = np.random.randn(100) \n",
        "N = 1000\n",
        "idx = np.random.randint(0, X.size, (N, X.size))\n",
        "means = X[idx].mean(axis=1)\n",
        "confint = np.percentile(means, [2.5, 97.5])\n",
        "print(confint)"
      ]
    }
  ],
  "metadata": {
    "kernelspec": {
      "display_name": "Python 3",
      "language": "python",
      "name": "python3"
    },
    "language_info": {
      "codemirror_mode": {
        "name": "ipython",
        "version": 3
      },
      "file_extension": ".py",
      "mimetype": "text/x-python",
      "name": "python",
      "nbconvert_exporter": "python",
      "pygments_lexer": "ipython3",
      "version": "3.8.3"
    },
    "colab": {
      "provenance": [],
      "include_colab_link": true
    }
  },
  "nbformat": 4,
  "nbformat_minor": 0
}